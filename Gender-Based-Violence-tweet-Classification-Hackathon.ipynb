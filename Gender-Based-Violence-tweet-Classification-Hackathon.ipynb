{
  "nbformat": 4,
  "nbformat_minor": 0,
  "metadata": {
    "accelerator": "GPU",
    "colab": {
      "name": "GBV.ipynb",
      "provenance": [],
      "collapsed_sections": [],
      "machine_shape": "hm"
    },
    "kernelspec": {
      "display_name": "Python 3",
      "name": "python3"
    },
    "language_info": {
      "name": "python"
    },
    "widgets": {
      "application/vnd.jupyter.widget-state+json": {
        "4377877b9b4448788b33b93a06cf387e": {
          "model_module": "@jupyter-widgets/controls",
          "model_name": "HBoxModel",
          "state": {
            "_view_name": "HBoxView",
            "_dom_classes": [],
            "_model_name": "HBoxModel",
            "_view_module": "@jupyter-widgets/controls",
            "_model_module_version": "1.5.0",
            "_view_count": null,
            "_view_module_version": "1.5.0",
            "box_style": "",
            "layout": "IPY_MODEL_78c5f6779d30421ebaa73d1a42bef4cd",
            "_model_module": "@jupyter-widgets/controls",
            "children": [
              "IPY_MODEL_e1b86943215d4af5a30a8d8d9e55b683",
              "IPY_MODEL_5aa6b981e9ca4f4bb411f8ebe785da9f"
            ]
          }
        },
        "78c5f6779d30421ebaa73d1a42bef4cd": {
          "model_module": "@jupyter-widgets/base",
          "model_name": "LayoutModel",
          "state": {
            "_view_name": "LayoutView",
            "grid_template_rows": null,
            "right": null,
            "justify_content": null,
            "_view_module": "@jupyter-widgets/base",
            "overflow": null,
            "_model_module_version": "1.2.0",
            "_view_count": null,
            "flex_flow": null,
            "width": null,
            "min_width": null,
            "border": null,
            "align_items": null,
            "bottom": null,
            "_model_module": "@jupyter-widgets/base",
            "top": null,
            "grid_column": null,
            "overflow_y": null,
            "overflow_x": null,
            "grid_auto_flow": null,
            "grid_area": null,
            "grid_template_columns": null,
            "flex": null,
            "_model_name": "LayoutModel",
            "justify_items": null,
            "grid_row": null,
            "max_height": null,
            "align_content": null,
            "visibility": null,
            "align_self": null,
            "height": null,
            "min_height": null,
            "padding": null,
            "grid_auto_rows": null,
            "grid_gap": null,
            "max_width": null,
            "order": null,
            "_view_module_version": "1.2.0",
            "grid_template_areas": null,
            "object_position": null,
            "object_fit": null,
            "grid_auto_columns": null,
            "margin": null,
            "display": null,
            "left": null
          }
        },
        "e1b86943215d4af5a30a8d8d9e55b683": {
          "model_module": "@jupyter-widgets/controls",
          "model_name": "FloatProgressModel",
          "state": {
            "_view_name": "ProgressView",
            "style": "IPY_MODEL_4bb6b15b6b3a437e800fdc069df21576",
            "_dom_classes": [],
            "description": "Downloading: 100%",
            "_model_name": "FloatProgressModel",
            "bar_style": "success",
            "max": 779,
            "_view_module": "@jupyter-widgets/controls",
            "_model_module_version": "1.5.0",
            "value": 779,
            "_view_count": null,
            "_view_module_version": "1.5.0",
            "orientation": "horizontal",
            "min": 0,
            "description_tooltip": null,
            "_model_module": "@jupyter-widgets/controls",
            "layout": "IPY_MODEL_55d2cdee57b844a1a06e0e2f17b1cb1c"
          }
        },
        "5aa6b981e9ca4f4bb411f8ebe785da9f": {
          "model_module": "@jupyter-widgets/controls",
          "model_name": "HTMLModel",
          "state": {
            "_view_name": "HTMLView",
            "style": "IPY_MODEL_88b08e8e3e784ca28e3c287be3748f7d",
            "_dom_classes": [],
            "description": "",
            "_model_name": "HTMLModel",
            "placeholder": "​",
            "_view_module": "@jupyter-widgets/controls",
            "_model_module_version": "1.5.0",
            "value": " 779/779 [00:04&lt;00:00, 176B/s]",
            "_view_count": null,
            "_view_module_version": "1.5.0",
            "description_tooltip": null,
            "_model_module": "@jupyter-widgets/controls",
            "layout": "IPY_MODEL_0e30ef3f77a94655baf1ced86a52b668"
          }
        },
        "4bb6b15b6b3a437e800fdc069df21576": {
          "model_module": "@jupyter-widgets/controls",
          "model_name": "ProgressStyleModel",
          "state": {
            "_view_name": "StyleView",
            "_model_name": "ProgressStyleModel",
            "description_width": "initial",
            "_view_module": "@jupyter-widgets/base",
            "_model_module_version": "1.5.0",
            "_view_count": null,
            "_view_module_version": "1.2.0",
            "bar_color": null,
            "_model_module": "@jupyter-widgets/controls"
          }
        },
        "55d2cdee57b844a1a06e0e2f17b1cb1c": {
          "model_module": "@jupyter-widgets/base",
          "model_name": "LayoutModel",
          "state": {
            "_view_name": "LayoutView",
            "grid_template_rows": null,
            "right": null,
            "justify_content": null,
            "_view_module": "@jupyter-widgets/base",
            "overflow": null,
            "_model_module_version": "1.2.0",
            "_view_count": null,
            "flex_flow": null,
            "width": null,
            "min_width": null,
            "border": null,
            "align_items": null,
            "bottom": null,
            "_model_module": "@jupyter-widgets/base",
            "top": null,
            "grid_column": null,
            "overflow_y": null,
            "overflow_x": null,
            "grid_auto_flow": null,
            "grid_area": null,
            "grid_template_columns": null,
            "flex": null,
            "_model_name": "LayoutModel",
            "justify_items": null,
            "grid_row": null,
            "max_height": null,
            "align_content": null,
            "visibility": null,
            "align_self": null,
            "height": null,
            "min_height": null,
            "padding": null,
            "grid_auto_rows": null,
            "grid_gap": null,
            "max_width": null,
            "order": null,
            "_view_module_version": "1.2.0",
            "grid_template_areas": null,
            "object_position": null,
            "object_fit": null,
            "grid_auto_columns": null,
            "margin": null,
            "display": null,
            "left": null
          }
        },
        "88b08e8e3e784ca28e3c287be3748f7d": {
          "model_module": "@jupyter-widgets/controls",
          "model_name": "DescriptionStyleModel",
          "state": {
            "_view_name": "StyleView",
            "_model_name": "DescriptionStyleModel",
            "description_width": "",
            "_view_module": "@jupyter-widgets/base",
            "_model_module_version": "1.5.0",
            "_view_count": null,
            "_view_module_version": "1.2.0",
            "_model_module": "@jupyter-widgets/controls"
          }
        },
        "0e30ef3f77a94655baf1ced86a52b668": {
          "model_module": "@jupyter-widgets/base",
          "model_name": "LayoutModel",
          "state": {
            "_view_name": "LayoutView",
            "grid_template_rows": null,
            "right": null,
            "justify_content": null,
            "_view_module": "@jupyter-widgets/base",
            "overflow": null,
            "_model_module_version": "1.2.0",
            "_view_count": null,
            "flex_flow": null,
            "width": null,
            "min_width": null,
            "border": null,
            "align_items": null,
            "bottom": null,
            "_model_module": "@jupyter-widgets/base",
            "top": null,
            "grid_column": null,
            "overflow_y": null,
            "overflow_x": null,
            "grid_auto_flow": null,
            "grid_area": null,
            "grid_template_columns": null,
            "flex": null,
            "_model_name": "LayoutModel",
            "justify_items": null,
            "grid_row": null,
            "max_height": null,
            "align_content": null,
            "visibility": null,
            "align_self": null,
            "height": null,
            "min_height": null,
            "padding": null,
            "grid_auto_rows": null,
            "grid_gap": null,
            "max_width": null,
            "order": null,
            "_view_module_version": "1.2.0",
            "grid_template_areas": null,
            "object_position": null,
            "object_fit": null,
            "grid_auto_columns": null,
            "margin": null,
            "display": null,
            "left": null
          }
        },
        "00900857bb5447109ce3cc136cd65c53": {
          "model_module": "@jupyter-widgets/controls",
          "model_name": "HBoxModel",
          "state": {
            "_view_name": "HBoxView",
            "_dom_classes": [],
            "_model_name": "HBoxModel",
            "_view_module": "@jupyter-widgets/controls",
            "_model_module_version": "1.5.0",
            "_view_count": null,
            "_view_module_version": "1.5.0",
            "box_style": "",
            "layout": "IPY_MODEL_fcca322686854c3e8b5b7a47c2214ffc",
            "_model_module": "@jupyter-widgets/controls",
            "children": [
              "IPY_MODEL_372ecb50be254070ba1f2b5b944e6f03",
              "IPY_MODEL_c2f11ddc1c0548298cf1b63ed1ba854f"
            ]
          }
        },
        "fcca322686854c3e8b5b7a47c2214ffc": {
          "model_module": "@jupyter-widgets/base",
          "model_name": "LayoutModel",
          "state": {
            "_view_name": "LayoutView",
            "grid_template_rows": null,
            "right": null,
            "justify_content": null,
            "_view_module": "@jupyter-widgets/base",
            "overflow": null,
            "_model_module_version": "1.2.0",
            "_view_count": null,
            "flex_flow": null,
            "width": null,
            "min_width": null,
            "border": null,
            "align_items": null,
            "bottom": null,
            "_model_module": "@jupyter-widgets/base",
            "top": null,
            "grid_column": null,
            "overflow_y": null,
            "overflow_x": null,
            "grid_auto_flow": null,
            "grid_area": null,
            "grid_template_columns": null,
            "flex": null,
            "_model_name": "LayoutModel",
            "justify_items": null,
            "grid_row": null,
            "max_height": null,
            "align_content": null,
            "visibility": null,
            "align_self": null,
            "height": null,
            "min_height": null,
            "padding": null,
            "grid_auto_rows": null,
            "grid_gap": null,
            "max_width": null,
            "order": null,
            "_view_module_version": "1.2.0",
            "grid_template_areas": null,
            "object_position": null,
            "object_fit": null,
            "grid_auto_columns": null,
            "margin": null,
            "display": null,
            "left": null
          }
        },
        "372ecb50be254070ba1f2b5b944e6f03": {
          "model_module": "@jupyter-widgets/controls",
          "model_name": "FloatProgressModel",
          "state": {
            "_view_name": "ProgressView",
            "style": "IPY_MODEL_114f9c6341594cfe81578446501d1b87",
            "_dom_classes": [],
            "description": "Downloading: 100%",
            "_model_name": "FloatProgressModel",
            "bar_style": "success",
            "max": 898822,
            "_view_module": "@jupyter-widgets/controls",
            "_model_module_version": "1.5.0",
            "value": 898822,
            "_view_count": null,
            "_view_module_version": "1.5.0",
            "orientation": "horizontal",
            "min": 0,
            "description_tooltip": null,
            "_model_module": "@jupyter-widgets/controls",
            "layout": "IPY_MODEL_7347552c251346d0b09809bdb07a499e"
          }
        },
        "c2f11ddc1c0548298cf1b63ed1ba854f": {
          "model_module": "@jupyter-widgets/controls",
          "model_name": "HTMLModel",
          "state": {
            "_view_name": "HTMLView",
            "style": "IPY_MODEL_3156fb8ff7d146a79e367280b33fda8f",
            "_dom_classes": [],
            "description": "",
            "_model_name": "HTMLModel",
            "placeholder": "​",
            "_view_module": "@jupyter-widgets/controls",
            "_model_module_version": "1.5.0",
            "value": " 899k/899k [00:02&lt;00:00, 350kB/s]",
            "_view_count": null,
            "_view_module_version": "1.5.0",
            "description_tooltip": null,
            "_model_module": "@jupyter-widgets/controls",
            "layout": "IPY_MODEL_3209a285a6e04011a563a73f4cc8bee7"
          }
        },
        "114f9c6341594cfe81578446501d1b87": {
          "model_module": "@jupyter-widgets/controls",
          "model_name": "ProgressStyleModel",
          "state": {
            "_view_name": "StyleView",
            "_model_name": "ProgressStyleModel",
            "description_width": "initial",
            "_view_module": "@jupyter-widgets/base",
            "_model_module_version": "1.5.0",
            "_view_count": null,
            "_view_module_version": "1.2.0",
            "bar_color": null,
            "_model_module": "@jupyter-widgets/controls"
          }
        },
        "7347552c251346d0b09809bdb07a499e": {
          "model_module": "@jupyter-widgets/base",
          "model_name": "LayoutModel",
          "state": {
            "_view_name": "LayoutView",
            "grid_template_rows": null,
            "right": null,
            "justify_content": null,
            "_view_module": "@jupyter-widgets/base",
            "overflow": null,
            "_model_module_version": "1.2.0",
            "_view_count": null,
            "flex_flow": null,
            "width": null,
            "min_width": null,
            "border": null,
            "align_items": null,
            "bottom": null,
            "_model_module": "@jupyter-widgets/base",
            "top": null,
            "grid_column": null,
            "overflow_y": null,
            "overflow_x": null,
            "grid_auto_flow": null,
            "grid_area": null,
            "grid_template_columns": null,
            "flex": null,
            "_model_name": "LayoutModel",
            "justify_items": null,
            "grid_row": null,
            "max_height": null,
            "align_content": null,
            "visibility": null,
            "align_self": null,
            "height": null,
            "min_height": null,
            "padding": null,
            "grid_auto_rows": null,
            "grid_gap": null,
            "max_width": null,
            "order": null,
            "_view_module_version": "1.2.0",
            "grid_template_areas": null,
            "object_position": null,
            "object_fit": null,
            "grid_auto_columns": null,
            "margin": null,
            "display": null,
            "left": null
          }
        },
        "3156fb8ff7d146a79e367280b33fda8f": {
          "model_module": "@jupyter-widgets/controls",
          "model_name": "DescriptionStyleModel",
          "state": {
            "_view_name": "StyleView",
            "_model_name": "DescriptionStyleModel",
            "description_width": "",
            "_view_module": "@jupyter-widgets/base",
            "_model_module_version": "1.5.0",
            "_view_count": null,
            "_view_module_version": "1.2.0",
            "_model_module": "@jupyter-widgets/controls"
          }
        },
        "3209a285a6e04011a563a73f4cc8bee7": {
          "model_module": "@jupyter-widgets/base",
          "model_name": "LayoutModel",
          "state": {
            "_view_name": "LayoutView",
            "grid_template_rows": null,
            "right": null,
            "justify_content": null,
            "_view_module": "@jupyter-widgets/base",
            "overflow": null,
            "_model_module_version": "1.2.0",
            "_view_count": null,
            "flex_flow": null,
            "width": null,
            "min_width": null,
            "border": null,
            "align_items": null,
            "bottom": null,
            "_model_module": "@jupyter-widgets/base",
            "top": null,
            "grid_column": null,
            "overflow_y": null,
            "overflow_x": null,
            "grid_auto_flow": null,
            "grid_area": null,
            "grid_template_columns": null,
            "flex": null,
            "_model_name": "LayoutModel",
            "justify_items": null,
            "grid_row": null,
            "max_height": null,
            "align_content": null,
            "visibility": null,
            "align_self": null,
            "height": null,
            "min_height": null,
            "padding": null,
            "grid_auto_rows": null,
            "grid_gap": null,
            "max_width": null,
            "order": null,
            "_view_module_version": "1.2.0",
            "grid_template_areas": null,
            "object_position": null,
            "object_fit": null,
            "grid_auto_columns": null,
            "margin": null,
            "display": null,
            "left": null
          }
        },
        "5fc58844c5e5409b8d46d56473b869cc": {
          "model_module": "@jupyter-widgets/controls",
          "model_name": "HBoxModel",
          "state": {
            "_view_name": "HBoxView",
            "_dom_classes": [],
            "_model_name": "HBoxModel",
            "_view_module": "@jupyter-widgets/controls",
            "_model_module_version": "1.5.0",
            "_view_count": null,
            "_view_module_version": "1.5.0",
            "box_style": "",
            "layout": "IPY_MODEL_afb9e69738b8401baf35b9dbed2fbf7e",
            "_model_module": "@jupyter-widgets/controls",
            "children": [
              "IPY_MODEL_086c3fbbb976415983793862a8b1add5",
              "IPY_MODEL_f3c13ab390314e039859760181d44b95"
            ]
          }
        },
        "afb9e69738b8401baf35b9dbed2fbf7e": {
          "model_module": "@jupyter-widgets/base",
          "model_name": "LayoutModel",
          "state": {
            "_view_name": "LayoutView",
            "grid_template_rows": null,
            "right": null,
            "justify_content": null,
            "_view_module": "@jupyter-widgets/base",
            "overflow": null,
            "_model_module_version": "1.2.0",
            "_view_count": null,
            "flex_flow": null,
            "width": null,
            "min_width": null,
            "border": null,
            "align_items": null,
            "bottom": null,
            "_model_module": "@jupyter-widgets/base",
            "top": null,
            "grid_column": null,
            "overflow_y": null,
            "overflow_x": null,
            "grid_auto_flow": null,
            "grid_area": null,
            "grid_template_columns": null,
            "flex": null,
            "_model_name": "LayoutModel",
            "justify_items": null,
            "grid_row": null,
            "max_height": null,
            "align_content": null,
            "visibility": null,
            "align_self": null,
            "height": null,
            "min_height": null,
            "padding": null,
            "grid_auto_rows": null,
            "grid_gap": null,
            "max_width": null,
            "order": null,
            "_view_module_version": "1.2.0",
            "grid_template_areas": null,
            "object_position": null,
            "object_fit": null,
            "grid_auto_columns": null,
            "margin": null,
            "display": null,
            "left": null
          }
        },
        "086c3fbbb976415983793862a8b1add5": {
          "model_module": "@jupyter-widgets/controls",
          "model_name": "FloatProgressModel",
          "state": {
            "_view_name": "ProgressView",
            "style": "IPY_MODEL_5056241557a9494da963c85903d67332",
            "_dom_classes": [],
            "description": "Downloading: 100%",
            "_model_name": "FloatProgressModel",
            "bar_style": "success",
            "max": 456318,
            "_view_module": "@jupyter-widgets/controls",
            "_model_module_version": "1.5.0",
            "value": 456318,
            "_view_count": null,
            "_view_module_version": "1.5.0",
            "orientation": "horizontal",
            "min": 0,
            "description_tooltip": null,
            "_model_module": "@jupyter-widgets/controls",
            "layout": "IPY_MODEL_9df1610882214819b3bcbb4befe01d2b"
          }
        },
        "f3c13ab390314e039859760181d44b95": {
          "model_module": "@jupyter-widgets/controls",
          "model_name": "HTMLModel",
          "state": {
            "_view_name": "HTMLView",
            "style": "IPY_MODEL_42a1a342885047c0b10896b34df25ce9",
            "_dom_classes": [],
            "description": "",
            "_model_name": "HTMLModel",
            "placeholder": "​",
            "_view_module": "@jupyter-widgets/controls",
            "_model_module_version": "1.5.0",
            "value": " 456k/456k [00:01&lt;00:00, 282kB/s]",
            "_view_count": null,
            "_view_module_version": "1.5.0",
            "description_tooltip": null,
            "_model_module": "@jupyter-widgets/controls",
            "layout": "IPY_MODEL_f3de9f448fce4b49b5a4a65092dce188"
          }
        },
        "5056241557a9494da963c85903d67332": {
          "model_module": "@jupyter-widgets/controls",
          "model_name": "ProgressStyleModel",
          "state": {
            "_view_name": "StyleView",
            "_model_name": "ProgressStyleModel",
            "description_width": "initial",
            "_view_module": "@jupyter-widgets/base",
            "_model_module_version": "1.5.0",
            "_view_count": null,
            "_view_module_version": "1.2.0",
            "bar_color": null,
            "_model_module": "@jupyter-widgets/controls"
          }
        },
        "9df1610882214819b3bcbb4befe01d2b": {
          "model_module": "@jupyter-widgets/base",
          "model_name": "LayoutModel",
          "state": {
            "_view_name": "LayoutView",
            "grid_template_rows": null,
            "right": null,
            "justify_content": null,
            "_view_module": "@jupyter-widgets/base",
            "overflow": null,
            "_model_module_version": "1.2.0",
            "_view_count": null,
            "flex_flow": null,
            "width": null,
            "min_width": null,
            "border": null,
            "align_items": null,
            "bottom": null,
            "_model_module": "@jupyter-widgets/base",
            "top": null,
            "grid_column": null,
            "overflow_y": null,
            "overflow_x": null,
            "grid_auto_flow": null,
            "grid_area": null,
            "grid_template_columns": null,
            "flex": null,
            "_model_name": "LayoutModel",
            "justify_items": null,
            "grid_row": null,
            "max_height": null,
            "align_content": null,
            "visibility": null,
            "align_self": null,
            "height": null,
            "min_height": null,
            "padding": null,
            "grid_auto_rows": null,
            "grid_gap": null,
            "max_width": null,
            "order": null,
            "_view_module_version": "1.2.0",
            "grid_template_areas": null,
            "object_position": null,
            "object_fit": null,
            "grid_auto_columns": null,
            "margin": null,
            "display": null,
            "left": null
          }
        },
        "42a1a342885047c0b10896b34df25ce9": {
          "model_module": "@jupyter-widgets/controls",
          "model_name": "DescriptionStyleModel",
          "state": {
            "_view_name": "StyleView",
            "_model_name": "DescriptionStyleModel",
            "description_width": "",
            "_view_module": "@jupyter-widgets/base",
            "_model_module_version": "1.5.0",
            "_view_count": null,
            "_view_module_version": "1.2.0",
            "_model_module": "@jupyter-widgets/controls"
          }
        },
        "f3de9f448fce4b49b5a4a65092dce188": {
          "model_module": "@jupyter-widgets/base",
          "model_name": "LayoutModel",
          "state": {
            "_view_name": "LayoutView",
            "grid_template_rows": null,
            "right": null,
            "justify_content": null,
            "_view_module": "@jupyter-widgets/base",
            "overflow": null,
            "_model_module_version": "1.2.0",
            "_view_count": null,
            "flex_flow": null,
            "width": null,
            "min_width": null,
            "border": null,
            "align_items": null,
            "bottom": null,
            "_model_module": "@jupyter-widgets/base",
            "top": null,
            "grid_column": null,
            "overflow_y": null,
            "overflow_x": null,
            "grid_auto_flow": null,
            "grid_area": null,
            "grid_template_columns": null,
            "flex": null,
            "_model_name": "LayoutModel",
            "justify_items": null,
            "grid_row": null,
            "max_height": null,
            "align_content": null,
            "visibility": null,
            "align_self": null,
            "height": null,
            "min_height": null,
            "padding": null,
            "grid_auto_rows": null,
            "grid_gap": null,
            "max_width": null,
            "order": null,
            "_view_module_version": "1.2.0",
            "grid_template_areas": null,
            "object_position": null,
            "object_fit": null,
            "grid_auto_columns": null,
            "margin": null,
            "display": null,
            "left": null
          }
        },
        "4866eec778fb4c69a7c61c00e49ad1fb": {
          "model_module": "@jupyter-widgets/controls",
          "model_name": "HBoxModel",
          "state": {
            "_view_name": "HBoxView",
            "_dom_classes": [],
            "_model_name": "HBoxModel",
            "_view_module": "@jupyter-widgets/controls",
            "_model_module_version": "1.5.0",
            "_view_count": null,
            "_view_module_version": "1.5.0",
            "box_style": "",
            "layout": "IPY_MODEL_1282283819b14d43a0f97b4d1876e424",
            "_model_module": "@jupyter-widgets/controls",
            "children": [
              "IPY_MODEL_1f453eda225f4c38810e9846ba47f0bd",
              "IPY_MODEL_f1f33e126d774f74b6cba2b4a0f56601"
            ]
          }
        },
        "1282283819b14d43a0f97b4d1876e424": {
          "model_module": "@jupyter-widgets/base",
          "model_name": "LayoutModel",
          "state": {
            "_view_name": "LayoutView",
            "grid_template_rows": null,
            "right": null,
            "justify_content": null,
            "_view_module": "@jupyter-widgets/base",
            "overflow": null,
            "_model_module_version": "1.2.0",
            "_view_count": null,
            "flex_flow": null,
            "width": null,
            "min_width": null,
            "border": null,
            "align_items": null,
            "bottom": null,
            "_model_module": "@jupyter-widgets/base",
            "top": null,
            "grid_column": null,
            "overflow_y": null,
            "overflow_x": null,
            "grid_auto_flow": null,
            "grid_area": null,
            "grid_template_columns": null,
            "flex": null,
            "_model_name": "LayoutModel",
            "justify_items": null,
            "grid_row": null,
            "max_height": null,
            "align_content": null,
            "visibility": null,
            "align_self": null,
            "height": null,
            "min_height": null,
            "padding": null,
            "grid_auto_rows": null,
            "grid_gap": null,
            "max_width": null,
            "order": null,
            "_view_module_version": "1.2.0",
            "grid_template_areas": null,
            "object_position": null,
            "object_fit": null,
            "grid_auto_columns": null,
            "margin": null,
            "display": null,
            "left": null
          }
        },
        "1f453eda225f4c38810e9846ba47f0bd": {
          "model_module": "@jupyter-widgets/controls",
          "model_name": "FloatProgressModel",
          "state": {
            "_view_name": "ProgressView",
            "style": "IPY_MODEL_f75473a66bb948eba8a205ff37d27a55",
            "_dom_classes": [],
            "description": "Downloading: 100%",
            "_model_name": "FloatProgressModel",
            "bar_style": "success",
            "max": 150,
            "_view_module": "@jupyter-widgets/controls",
            "_model_module_version": "1.5.0",
            "value": 150,
            "_view_count": null,
            "_view_module_version": "1.5.0",
            "orientation": "horizontal",
            "min": 0,
            "description_tooltip": null,
            "_model_module": "@jupyter-widgets/controls",
            "layout": "IPY_MODEL_b53fd256a99c43efa8150e252c2602ee"
          }
        },
        "f1f33e126d774f74b6cba2b4a0f56601": {
          "model_module": "@jupyter-widgets/controls",
          "model_name": "HTMLModel",
          "state": {
            "_view_name": "HTMLView",
            "style": "IPY_MODEL_4271b1484f964d12af4ec30b8a6087b5",
            "_dom_classes": [],
            "description": "",
            "_model_name": "HTMLModel",
            "placeholder": "​",
            "_view_module": "@jupyter-widgets/controls",
            "_model_module_version": "1.5.0",
            "value": " 150/150 [00:00&lt;00:00, 193B/s]",
            "_view_count": null,
            "_view_module_version": "1.5.0",
            "description_tooltip": null,
            "_model_module": "@jupyter-widgets/controls",
            "layout": "IPY_MODEL_1b2007461fe14225b751a51b67b75655"
          }
        },
        "f75473a66bb948eba8a205ff37d27a55": {
          "model_module": "@jupyter-widgets/controls",
          "model_name": "ProgressStyleModel",
          "state": {
            "_view_name": "StyleView",
            "_model_name": "ProgressStyleModel",
            "description_width": "initial",
            "_view_module": "@jupyter-widgets/base",
            "_model_module_version": "1.5.0",
            "_view_count": null,
            "_view_module_version": "1.2.0",
            "bar_color": null,
            "_model_module": "@jupyter-widgets/controls"
          }
        },
        "b53fd256a99c43efa8150e252c2602ee": {
          "model_module": "@jupyter-widgets/base",
          "model_name": "LayoutModel",
          "state": {
            "_view_name": "LayoutView",
            "grid_template_rows": null,
            "right": null,
            "justify_content": null,
            "_view_module": "@jupyter-widgets/base",
            "overflow": null,
            "_model_module_version": "1.2.0",
            "_view_count": null,
            "flex_flow": null,
            "width": null,
            "min_width": null,
            "border": null,
            "align_items": null,
            "bottom": null,
            "_model_module": "@jupyter-widgets/base",
            "top": null,
            "grid_column": null,
            "overflow_y": null,
            "overflow_x": null,
            "grid_auto_flow": null,
            "grid_area": null,
            "grid_template_columns": null,
            "flex": null,
            "_model_name": "LayoutModel",
            "justify_items": null,
            "grid_row": null,
            "max_height": null,
            "align_content": null,
            "visibility": null,
            "align_self": null,
            "height": null,
            "min_height": null,
            "padding": null,
            "grid_auto_rows": null,
            "grid_gap": null,
            "max_width": null,
            "order": null,
            "_view_module_version": "1.2.0",
            "grid_template_areas": null,
            "object_position": null,
            "object_fit": null,
            "grid_auto_columns": null,
            "margin": null,
            "display": null,
            "left": null
          }
        },
        "4271b1484f964d12af4ec30b8a6087b5": {
          "model_module": "@jupyter-widgets/controls",
          "model_name": "DescriptionStyleModel",
          "state": {
            "_view_name": "StyleView",
            "_model_name": "DescriptionStyleModel",
            "description_width": "",
            "_view_module": "@jupyter-widgets/base",
            "_model_module_version": "1.5.0",
            "_view_count": null,
            "_view_module_version": "1.2.0",
            "_model_module": "@jupyter-widgets/controls"
          }
        },
        "1b2007461fe14225b751a51b67b75655": {
          "model_module": "@jupyter-widgets/base",
          "model_name": "LayoutModel",
          "state": {
            "_view_name": "LayoutView",
            "grid_template_rows": null,
            "right": null,
            "justify_content": null,
            "_view_module": "@jupyter-widgets/base",
            "overflow": null,
            "_model_module_version": "1.2.0",
            "_view_count": null,
            "flex_flow": null,
            "width": null,
            "min_width": null,
            "border": null,
            "align_items": null,
            "bottom": null,
            "_model_module": "@jupyter-widgets/base",
            "top": null,
            "grid_column": null,
            "overflow_y": null,
            "overflow_x": null,
            "grid_auto_flow": null,
            "grid_area": null,
            "grid_template_columns": null,
            "flex": null,
            "_model_name": "LayoutModel",
            "justify_items": null,
            "grid_row": null,
            "max_height": null,
            "align_content": null,
            "visibility": null,
            "align_self": null,
            "height": null,
            "min_height": null,
            "padding": null,
            "grid_auto_rows": null,
            "grid_gap": null,
            "max_width": null,
            "order": null,
            "_view_module_version": "1.2.0",
            "grid_template_areas": null,
            "object_position": null,
            "object_fit": null,
            "grid_auto_columns": null,
            "margin": null,
            "display": null,
            "left": null
          }
        },
        "f2b16ddea8f540e2b36ab599ed75fa39": {
          "model_module": "@jupyter-widgets/controls",
          "model_name": "HBoxModel",
          "state": {
            "_view_name": "HBoxView",
            "_dom_classes": [],
            "_model_name": "HBoxModel",
            "_view_module": "@jupyter-widgets/controls",
            "_model_module_version": "1.5.0",
            "_view_count": null,
            "_view_module_version": "1.5.0",
            "box_style": "",
            "layout": "IPY_MODEL_3c37b990dcfc440698acbc4c7de0dc8c",
            "_model_module": "@jupyter-widgets/controls",
            "children": [
              "IPY_MODEL_579bcd20cfc04c94a16bf3d9b08db778",
              "IPY_MODEL_ed726e17368d4427819b02d6650bd8c1"
            ]
          }
        },
        "3c37b990dcfc440698acbc4c7de0dc8c": {
          "model_module": "@jupyter-widgets/base",
          "model_name": "LayoutModel",
          "state": {
            "_view_name": "LayoutView",
            "grid_template_rows": null,
            "right": null,
            "justify_content": null,
            "_view_module": "@jupyter-widgets/base",
            "overflow": null,
            "_model_module_version": "1.2.0",
            "_view_count": null,
            "flex_flow": null,
            "width": null,
            "min_width": null,
            "border": null,
            "align_items": null,
            "bottom": null,
            "_model_module": "@jupyter-widgets/base",
            "top": null,
            "grid_column": null,
            "overflow_y": null,
            "overflow_x": null,
            "grid_auto_flow": null,
            "grid_area": null,
            "grid_template_columns": null,
            "flex": null,
            "_model_name": "LayoutModel",
            "justify_items": null,
            "grid_row": null,
            "max_height": null,
            "align_content": null,
            "visibility": null,
            "align_self": null,
            "height": null,
            "min_height": null,
            "padding": null,
            "grid_auto_rows": null,
            "grid_gap": null,
            "max_width": null,
            "order": null,
            "_view_module_version": "1.2.0",
            "grid_template_areas": null,
            "object_position": null,
            "object_fit": null,
            "grid_auto_columns": null,
            "margin": null,
            "display": null,
            "left": null
          }
        },
        "579bcd20cfc04c94a16bf3d9b08db778": {
          "model_module": "@jupyter-widgets/controls",
          "model_name": "FloatProgressModel",
          "state": {
            "_view_name": "ProgressView",
            "style": "IPY_MODEL_d8ed86f54b504cdeb41132d08c2f2ad8",
            "_dom_classes": [],
            "description": "Downloading: 100%",
            "_model_name": "FloatProgressModel",
            "bar_style": "success",
            "max": 501233376,
            "_view_module": "@jupyter-widgets/controls",
            "_model_module_version": "1.5.0",
            "value": 501233376,
            "_view_count": null,
            "_view_module_version": "1.5.0",
            "orientation": "horizontal",
            "min": 0,
            "description_tooltip": null,
            "_model_module": "@jupyter-widgets/controls",
            "layout": "IPY_MODEL_a79ef168ae7a478e9888679e38bc06c9"
          }
        },
        "ed726e17368d4427819b02d6650bd8c1": {
          "model_module": "@jupyter-widgets/controls",
          "model_name": "HTMLModel",
          "state": {
            "_view_name": "HTMLView",
            "style": "IPY_MODEL_2f1d6f96daa74a09a29f44b9154720cb",
            "_dom_classes": [],
            "description": "",
            "_model_name": "HTMLModel",
            "placeholder": "​",
            "_view_module": "@jupyter-widgets/controls",
            "_model_module_version": "1.5.0",
            "value": " 501M/501M [00:09&lt;00:00, 51.6MB/s]",
            "_view_count": null,
            "_view_module_version": "1.5.0",
            "description_tooltip": null,
            "_model_module": "@jupyter-widgets/controls",
            "layout": "IPY_MODEL_f0b1deecec404df6809bfa376f1b96f4"
          }
        },
        "d8ed86f54b504cdeb41132d08c2f2ad8": {
          "model_module": "@jupyter-widgets/controls",
          "model_name": "ProgressStyleModel",
          "state": {
            "_view_name": "StyleView",
            "_model_name": "ProgressStyleModel",
            "description_width": "initial",
            "_view_module": "@jupyter-widgets/base",
            "_model_module_version": "1.5.0",
            "_view_count": null,
            "_view_module_version": "1.2.0",
            "bar_color": null,
            "_model_module": "@jupyter-widgets/controls"
          }
        },
        "a79ef168ae7a478e9888679e38bc06c9": {
          "model_module": "@jupyter-widgets/base",
          "model_name": "LayoutModel",
          "state": {
            "_view_name": "LayoutView",
            "grid_template_rows": null,
            "right": null,
            "justify_content": null,
            "_view_module": "@jupyter-widgets/base",
            "overflow": null,
            "_model_module_version": "1.2.0",
            "_view_count": null,
            "flex_flow": null,
            "width": null,
            "min_width": null,
            "border": null,
            "align_items": null,
            "bottom": null,
            "_model_module": "@jupyter-widgets/base",
            "top": null,
            "grid_column": null,
            "overflow_y": null,
            "overflow_x": null,
            "grid_auto_flow": null,
            "grid_area": null,
            "grid_template_columns": null,
            "flex": null,
            "_model_name": "LayoutModel",
            "justify_items": null,
            "grid_row": null,
            "max_height": null,
            "align_content": null,
            "visibility": null,
            "align_self": null,
            "height": null,
            "min_height": null,
            "padding": null,
            "grid_auto_rows": null,
            "grid_gap": null,
            "max_width": null,
            "order": null,
            "_view_module_version": "1.2.0",
            "grid_template_areas": null,
            "object_position": null,
            "object_fit": null,
            "grid_auto_columns": null,
            "margin": null,
            "display": null,
            "left": null
          }
        },
        "2f1d6f96daa74a09a29f44b9154720cb": {
          "model_module": "@jupyter-widgets/controls",
          "model_name": "DescriptionStyleModel",
          "state": {
            "_view_name": "StyleView",
            "_model_name": "DescriptionStyleModel",
            "description_width": "",
            "_view_module": "@jupyter-widgets/base",
            "_model_module_version": "1.5.0",
            "_view_count": null,
            "_view_module_version": "1.2.0",
            "_model_module": "@jupyter-widgets/controls"
          }
        },
        "f0b1deecec404df6809bfa376f1b96f4": {
          "model_module": "@jupyter-widgets/base",
          "model_name": "LayoutModel",
          "state": {
            "_view_name": "LayoutView",
            "grid_template_rows": null,
            "right": null,
            "justify_content": null,
            "_view_module": "@jupyter-widgets/base",
            "overflow": null,
            "_model_module_version": "1.2.0",
            "_view_count": null,
            "flex_flow": null,
            "width": null,
            "min_width": null,
            "border": null,
            "align_items": null,
            "bottom": null,
            "_model_module": "@jupyter-widgets/base",
            "top": null,
            "grid_column": null,
            "overflow_y": null,
            "overflow_x": null,
            "grid_auto_flow": null,
            "grid_area": null,
            "grid_template_columns": null,
            "flex": null,
            "_model_name": "LayoutModel",
            "justify_items": null,
            "grid_row": null,
            "max_height": null,
            "align_content": null,
            "visibility": null,
            "align_self": null,
            "height": null,
            "min_height": null,
            "padding": null,
            "grid_auto_rows": null,
            "grid_gap": null,
            "max_width": null,
            "order": null,
            "_view_module_version": "1.2.0",
            "grid_template_areas": null,
            "object_position": null,
            "object_fit": null,
            "grid_auto_columns": null,
            "margin": null,
            "display": null,
            "left": null
          }
        }
      }
    }
  },
  "cells": [
    {
      "cell_type": "code",
      "metadata": {
        "colab": {
          "base_uri": "https://localhost:8080/"
        },
        "id": "sA-W_S-HWE_Z",
        "outputId": "fb1c3a3a-d1ed-4dd0-95c6-4f2f78e5bd83"
      },
      "source": [
        "!unzip gender-based-violence-tweet-classification.zip"
      ],
      "execution_count": null,
      "outputs": [
        {
          "output_type": "stream",
          "text": [
            "Archive:  gender-based-violence-tweet-classification.zip\n",
            "  inflating: StarterNotebook.ipynb   \n",
            "  inflating: SampleSubmission.csv    \n",
            "  inflating: Test.csv                \n",
            "  inflating: Train.csv               \n"
          ],
          "name": "stdout"
        }
      ]
    },
    {
      "cell_type": "code",
      "metadata": {
        "colab": {
          "base_uri": "https://localhost:8080/"
        },
        "id": "zqYtwTG6WiE3",
        "outputId": "d448e756-ebbd-4e92-f0d5-c6f78a082715"
      },
      "source": [
        "!pip install transformers"
      ],
      "execution_count": null,
      "outputs": [
        {
          "output_type": "stream",
          "text": [
            "Collecting transformers\n",
            "  Downloading transformers-4.9.1-py3-none-any.whl (2.6 MB)\n",
            "\u001b[K     |████████████████████████████████| 2.6 MB 14.0 MB/s \n",
            "\u001b[?25hRequirement already satisfied: regex!=2019.12.17 in /usr/local/lib/python3.7/dist-packages (from transformers) (2019.12.20)\n",
            "Requirement already satisfied: filelock in /usr/local/lib/python3.7/dist-packages (from transformers) (3.0.12)\n",
            "Requirement already satisfied: importlib-metadata in /usr/local/lib/python3.7/dist-packages (from transformers) (4.6.1)\n",
            "Collecting huggingface-hub==0.0.12\n",
            "  Downloading huggingface_hub-0.0.12-py3-none-any.whl (37 kB)\n",
            "Requirement already satisfied: tqdm>=4.27 in /usr/local/lib/python3.7/dist-packages (from transformers) (4.41.1)\n",
            "Collecting tokenizers<0.11,>=0.10.1\n",
            "  Downloading tokenizers-0.10.3-cp37-cp37m-manylinux_2_5_x86_64.manylinux1_x86_64.manylinux_2_12_x86_64.manylinux2010_x86_64.whl (3.3 MB)\n",
            "\u001b[K     |████████████████████████████████| 3.3 MB 66.5 MB/s \n",
            "\u001b[?25hRequirement already satisfied: requests in /usr/local/lib/python3.7/dist-packages (from transformers) (2.23.0)\n",
            "Requirement already satisfied: numpy>=1.17 in /usr/local/lib/python3.7/dist-packages (from transformers) (1.19.5)\n",
            "Collecting sacremoses\n",
            "  Downloading sacremoses-0.0.45-py3-none-any.whl (895 kB)\n",
            "\u001b[K     |████████████████████████████████| 895 kB 53.0 MB/s \n",
            "\u001b[?25hCollecting pyyaml>=5.1\n",
            "  Downloading PyYAML-5.4.1-cp37-cp37m-manylinux1_x86_64.whl (636 kB)\n",
            "\u001b[K     |████████████████████████████████| 636 kB 46.5 MB/s \n",
            "\u001b[?25hRequirement already satisfied: packaging in /usr/local/lib/python3.7/dist-packages (from transformers) (21.0)\n",
            "Requirement already satisfied: typing-extensions in /usr/local/lib/python3.7/dist-packages (from huggingface-hub==0.0.12->transformers) (3.7.4.3)\n",
            "Requirement already satisfied: pyparsing>=2.0.2 in /usr/local/lib/python3.7/dist-packages (from packaging->transformers) (2.4.7)\n",
            "Requirement already satisfied: zipp>=0.5 in /usr/local/lib/python3.7/dist-packages (from importlib-metadata->transformers) (3.5.0)\n",
            "Requirement already satisfied: idna<3,>=2.5 in /usr/local/lib/python3.7/dist-packages (from requests->transformers) (2.10)\n",
            "Requirement already satisfied: chardet<4,>=3.0.2 in /usr/local/lib/python3.7/dist-packages (from requests->transformers) (3.0.4)\n",
            "Requirement already satisfied: certifi>=2017.4.17 in /usr/local/lib/python3.7/dist-packages (from requests->transformers) (2021.5.30)\n",
            "Requirement already satisfied: urllib3!=1.25.0,!=1.25.1,<1.26,>=1.21.1 in /usr/local/lib/python3.7/dist-packages (from requests->transformers) (1.24.3)\n",
            "Requirement already satisfied: click in /usr/local/lib/python3.7/dist-packages (from sacremoses->transformers) (7.1.2)\n",
            "Requirement already satisfied: joblib in /usr/local/lib/python3.7/dist-packages (from sacremoses->transformers) (1.0.1)\n",
            "Requirement already satisfied: six in /usr/local/lib/python3.7/dist-packages (from sacremoses->transformers) (1.15.0)\n",
            "Installing collected packages: tokenizers, sacremoses, pyyaml, huggingface-hub, transformers\n",
            "  Attempting uninstall: pyyaml\n",
            "    Found existing installation: PyYAML 3.13\n",
            "    Uninstalling PyYAML-3.13:\n",
            "      Successfully uninstalled PyYAML-3.13\n",
            "Successfully installed huggingface-hub-0.0.12 pyyaml-5.4.1 sacremoses-0.0.45 tokenizers-0.10.3 transformers-4.9.1\n"
          ],
          "name": "stdout"
        }
      ]
    },
    {
      "cell_type": "code",
      "metadata": {
        "id": "zrz9koAaWdXG"
      },
      "source": [
        "import pandas as pd\n",
        "import numpy as np\n",
        "import tensorflow as tf\n",
        "from tensorflow.keras.layers import Dense, Dropout, Input, concatenate\n",
        "from tensorflow.keras.models import Model\n",
        "from tensorflow.data import Dataset\n",
        "import re\n",
        "import string\n",
        "from sklearn.model_selection import train_test_split\n",
        "from sklearn.utils.class_weight import compute_class_weight\n",
        "from transformers import AutoTokenizer, TFAutoModel, TFAutoModelForSequenceClassification\n",
        "from transformers import logging\n",
        "\n",
        "logging.set_verbosity_warning()\n",
        "\n",
        "pd.set_option('display.width', 1000)\n",
        "pd.set_option('max_colwidth', 1000)\n"
      ],
      "execution_count": null,
      "outputs": []
    },
    {
      "cell_type": "code",
      "metadata": {
        "colab": {
          "base_uri": "https://localhost:8080/",
          "height": 287
        },
        "id": "FkQGBUH4W8KE",
        "outputId": "84cdf2b5-91ed-464f-b7d2-0fe3368b131a"
      },
      "source": [
        "train_df = pd.read_csv('Train.csv')\n",
        "test_df = pd.read_csv('Test.csv')\n",
        "\n",
        "np.seed = 200\n",
        "train_df = train_df.sample(frac=1, random_state=200)\n",
        "train_df.head()"
      ],
      "execution_count": null,
      "outputs": [
        {
          "output_type": "execute_result",
          "data": {
            "text/html": [
              "<div>\n",
              "<style scoped>\n",
              "    .dataframe tbody tr th:only-of-type {\n",
              "        vertical-align: middle;\n",
              "    }\n",
              "\n",
              "    .dataframe tbody tr th {\n",
              "        vertical-align: top;\n",
              "    }\n",
              "\n",
              "    .dataframe thead th {\n",
              "        text-align: right;\n",
              "    }\n",
              "</style>\n",
              "<table border=\"1\" class=\"dataframe\">\n",
              "  <thead>\n",
              "    <tr style=\"text-align: right;\">\n",
              "      <th></th>\n",
              "      <th>Tweet_ID</th>\n",
              "      <th>tweet</th>\n",
              "      <th>type</th>\n",
              "    </tr>\n",
              "  </thead>\n",
              "  <tbody>\n",
              "    <tr>\n",
              "      <th>23638</th>\n",
              "      <td>ID_LK3FHU9H</td>\n",
              "      <td>They said something along the lines of this “ i know him he wouldn’t do something like that “ as well as telling one of my bestfriends that they didn’t believe me because i “ just wanted dick” and i wouldn’t want it if i was raped. Men suck.</td>\n",
              "      <td>sexual_violence</td>\n",
              "    </tr>\n",
              "    <tr>\n",
              "      <th>18880</th>\n",
              "      <td>ID_H6OK5R5D</td>\n",
              "      <td>god did fuck all to do with children starving and people getting raped and murdered for thousands of years, and you say he created me? how about he creates a happy planet with good people, fuck your god he can eat shit</td>\n",
              "      <td>sexual_violence</td>\n",
              "    </tr>\n",
              "    <tr>\n",
              "      <th>34891</th>\n",
              "      <td>ID_VRRYJ4Z3</td>\n",
              "      <td>oh, let us count the questions that Donnie Trump must answer. 1) How does he get by paying $0 to $750 in income taxes when most average Americans pay about 10 times that in any given year. 2) How many women has Donnie raped?</td>\n",
              "      <td>sexual_violence</td>\n",
              "    </tr>\n",
              "    <tr>\n",
              "      <th>1015</th>\n",
              "      <td>ID_0VJU7B2W</td>\n",
              "      <td>FGM(Female Genital Mutilation) includes the partial/total removal of the female external genitalia, causing other injuries to the female genital organs for non-medical reasons.    'Why I broke the law to undergo FGM aged 26'</td>\n",
              "      <td>Harmful_Traditional_practice</td>\n",
              "    </tr>\n",
              "    <tr>\n",
              "      <th>28350</th>\n",
              "      <td>ID_PUR1YBUB</td>\n",
              "      <td>My husband always beats me at Scrabble.</td>\n",
              "      <td>Physical_violence</td>\n",
              "    </tr>\n",
              "  </tbody>\n",
              "</table>\n",
              "</div>"
            ],
            "text/plain": [
              "          Tweet_ID  ...                          type\n",
              "23638  ID_LK3FHU9H  ...               sexual_violence\n",
              "18880  ID_H6OK5R5D  ...               sexual_violence\n",
              "34891  ID_VRRYJ4Z3  ...               sexual_violence\n",
              "1015   ID_0VJU7B2W  ...  Harmful_Traditional_practice\n",
              "28350  ID_PUR1YBUB  ...             Physical_violence\n",
              "\n",
              "[5 rows x 3 columns]"
            ]
          },
          "metadata": {
            "tags": []
          },
          "execution_count": 39
        }
      ]
    },
    {
      "cell_type": "code",
      "metadata": {
        "colab": {
          "base_uri": "https://localhost:8080/",
          "height": 270
        },
        "id": "RvXCaB9hXRZ3",
        "outputId": "22ce48e2-c6c1-44a8-9a8b-4e5d8545eb7d"
      },
      "source": [
        "def replace_hidden(tweet):\n",
        "    hidden_dic = {'p****': 'pussy',\n",
        "                  'p*****': 'pussy',\n",
        "                  'p******': 'pussy',\n",
        "                  'p***': 'pussy',\n",
        "                  'p**': 'pussy',\n",
        "                  'p*': 'pussy',\n",
        "                  'p****y': 'pussy',\n",
        "                  'p*****y': 'pussy',\n",
        "                  'p******y': 'pussy',\n",
        "                  'p***y': 'pussy',\n",
        "                  'p**y': 'pussy',\n",
        "                  'p*y': 'pussy',\n",
        "                  'pu****': 'pussy',\n",
        "                  'pu*****': 'pussy',\n",
        "                  'pu******': 'pussy',\n",
        "                  'pu***': 'pussy',\n",
        "                  'pu**': 'pussy',\n",
        "                  'pu*': 'pussy',\n",
        "                  'pu****y': 'pussy',\n",
        "                  'pu*****y': 'pussy',\n",
        "                  'pu******y': 'pussy',\n",
        "                  'pu***y': 'pussy',\n",
        "                  'pu**y': 'pussy',\n",
        "                  'pu*y': 'pussy',\n",
        "                  'f****king': 'fucking',\n",
        "                  'f***king': 'fucking',\n",
        "                  'f**king': 'fucking',\n",
        "                  'f*king': 'fucking',\n",
        "                  'f**ing': 'fucking',\n",
        "                  'f***ing': 'fucking',\n",
        "                  'f****ing': 'fucking',\n",
        "                  'fuckin': 'fucking',\n",
        "                  'f**g': 'fucking',\n",
        "                  'f***g': 'fucking',\n",
        "                  'f****g': 'fucking',\n",
        "                  '**ing': 'fucking',\n",
        "                  'f*********': 'fuck',\n",
        "                  'f********': 'fuck',\n",
        "                  'f*******': 'fuck',\n",
        "                  'f******': 'fuck',\n",
        "                  'f*****': 'fuck',\n",
        "                  'f****': 'fuck',\n",
        "                  'f***': 'fuck',\n",
        "                  'f**': 'fuck',\n",
        "                  'f*': 'fuck',\n",
        "                  'f*********k': 'fuck',\n",
        "                  'f********k': 'fuck',\n",
        "                  'f*******k': 'fuck',\n",
        "                  'f******k': 'fuck',\n",
        "                  'f*****k': 'fuck',\n",
        "                  'f****k': 'fuck',\n",
        "                  'f***k': 'fuck',\n",
        "                  'f**k': 'fuck',\n",
        "                  'f*k': 'fuck',\n",
        "                  'fu*********k': 'fuck',\n",
        "                  'fu********k': 'fuck',\n",
        "                  'fu*******k': 'fuck',\n",
        "                  'fu******k': 'fuck',\n",
        "                  'fu*****k': 'fuck',\n",
        "                  'fu****k': 'fuck',\n",
        "                  'fu***k': 'fuck',\n",
        "                  'fu**k': 'fuck',\n",
        "                  'fu*k': 'fuck',\n",
        "                  'fu*********': 'fuck',\n",
        "                  'fu********': 'fuck',\n",
        "                  'fu*******': 'fuck',\n",
        "                  'fu******': 'fuck',\n",
        "                  'fu*****': 'fuck',\n",
        "                  'fu****': 'fuck',\n",
        "                  'fu***': 'fuck',\n",
        "                  'fu**': 'fuck',\n",
        "                  'fu*': 'fuck',\n",
        "                  'f*****ed': 'fucked',\n",
        "                  'f****ed': 'fucked',\n",
        "                  'f***ed': 'fucked',\n",
        "                  'f**ed': 'fucked',\n",
        "                  'f*ed': 'fucked',\n",
        "                  'f*****d': 'fucked',\n",
        "                  'f****d': 'fucked',\n",
        "                  'f***d': 'fucked',\n",
        "                  'f**d': 'fucked',\n",
        "                  'f*d': 'fucked',\n",
        "                  'd**k': 'dick',\n",
        "                  'd***k': 'dick',\n",
        "                  'd**': 'dick',\n",
        "                  'd*': 'dick',\n",
        "                  'd***': 'dick',\n",
        "                  'd****': 'dick',\n",
        "                  'd*****': 'dick',\n",
        "                  'd******': 'dick',\n",
        "                  'sh*****': 'shit',\n",
        "                  'sh****': 'shit',\n",
        "                  'sh***': 'shit',\n",
        "                  'sh**': 'shit',\n",
        "                  'sh*': 'shit',\n",
        "                  's*****': 'suck',\n",
        "                  's****': 'suck',\n",
        "                  's***': 'suck',\n",
        "                  's**': 'suck',\n",
        "                  's*': 'suck',\n",
        "                  's*****t': 'shit',\n",
        "                  's****t': 'shit',\n",
        "                  's***t': 'shit',\n",
        "                  's**t': 'shit',\n",
        "                  's*t': 'shit',\n",
        "                  'b*******': 'bitch',\n",
        "                  'b******': 'bitch',\n",
        "                  'b*****': 'bitch',\n",
        "                  'b****': 'bitch',\n",
        "                  'b***': 'bitch',\n",
        "                  'b**': 'bitch',\n",
        "                  'b****ch': 'bitch',\n",
        "                  'b*****ch': 'bitch',\n",
        "                  'b***ch': 'bitch',\n",
        "                  'b**ch': 'bitch',\n",
        "                  'g**********': 'gang',\n",
        "                  'g*********': 'gang',\n",
        "                  'g********': 'gang',\n",
        "                  'g*******': 'gang',\n",
        "                  'g******': 'gang',\n",
        "                  'g*****': 'gang',\n",
        "                  'g****': 'gang',\n",
        "                  'g***': 'gang',\n",
        "                  'g**': 'gang',\n",
        "                  'g*': 'gang',\n",
        "                  'n******er': 'nigger',\n",
        "                  'n*****er': 'nigger',\n",
        "                  'n****er': 'nigger',\n",
        "                  'n***er': 'nigger',\n",
        "                  'n**er': 'nigger',\n",
        "                  'n*er': 'nigger',\n",
        "                  'n********': 'nigger',\n",
        "                  'n*******': 'nigger',\n",
        "                  'n******': 'nigger',\n",
        "                  'n*****': 'nigger',\n",
        "                  'n****': 'nigger',\n",
        "                  'n***': 'nigger',\n",
        "                  'n**': 'nigger',\n",
        "                  'n*': 'nigger',\n",
        "                  'ni*a': 'nigger',\n",
        "                  'ni**a': 'nigger',\n",
        "                  'ni***a': 'nigger',\n",
        "                  'ni****a': 'nigger',\n",
        "                  'ni****a': 'nigger',\n",
        "                  'n*a': 'nigger',\n",
        "                  'n**a': 'nigger',\n",
        "                  'n***a': 'nigger',\n",
        "                  'n****a': 'nigger',\n",
        "                  'n****a': 'nigger',\n",
        "                  'n*******r': 'nigger',\n",
        "                  'n******r': 'nigger',\n",
        "                  'n*****r': 'nigger',\n",
        "                  'n****r': 'nigger',\n",
        "                  'n***r': 'nigger',\n",
        "                  'n**r': 'nigger',\n",
        "                  'n*r': 'nigger',\n",
        "                  'a*****': 'ass',\n",
        "                  'a****': 'ass',\n",
        "                  'a***': 'ass',\n",
        "                  'a**': 'ass',\n",
        "                  'a*': 'ass',\n",
        "                  'c********': 'cunt',\n",
        "                  'c*******': 'cunt',\n",
        "                  'c******': 'cunt',\n",
        "                  'c*****': 'cunt',\n",
        "                  'c****': 'cunt',\n",
        "                  'c***': 'cunt',\n",
        "                  'c**': 'cunt',\n",
        "                  'c*': 'cunt',\n",
        "                  'c********t': 'cunt',\n",
        "                  'c*******t': 'cunt',\n",
        "                  'c******t': 'cunt',\n",
        "                  'c*****t': 'cunt',\n",
        "                  'c****t': 'cunt',\n",
        "                  'c***t': 'cunt',\n",
        "                  'c**t': 'cunt',\n",
        "                  'c*t': 'cunt',\n",
        "                  'wtf': 'what the fuck',\n",
        "                  ' u ': 'you',\n",
        "                  'yrs': 'years',\n",
        "                  }\n",
        "    tweet = tweet.lower()\n",
        "    for hidden, replacement in hidden_dic.items():\n",
        "      tweet = tweet.replace(hidden, ' ' + replacement + ' ')\n",
        "    \n",
        "    tweet = re.sub(r\"\\x89Û_\", \"\", tweet)\n",
        "    tweet = re.sub(r\"\\x89ÛÒ\", \"\", tweet)\n",
        "    tweet = re.sub(r\"\\x89ÛÓ\", \"\", tweet)\n",
        "    tweet = re.sub(r\"\\x89ÛÏWhen\", \"When\", tweet)\n",
        "    tweet = re.sub(r\"\\x89ÛÏ\", \"\", tweet)\n",
        "    tweet = re.sub(r\"China\\x89Ûªs\", \"China's\", tweet)\n",
        "    tweet = re.sub(r\"let\\x89Ûªs\", \"let's\", tweet)\n",
        "    tweet = re.sub(r\"\\x89Û÷\", \"\", tweet)\n",
        "    tweet = re.sub(r\"\\x89Ûª\", \"\", tweet)\n",
        "    tweet = re.sub(r\"\\x89Û\\x9d\", \"\", tweet)\n",
        "    tweet = re.sub(r\"å_\", \"\", tweet)\n",
        "    tweet = re.sub(r\"\\x89Û¢\", \"\", tweet)\n",
        "    tweet = re.sub(r\"\\x89Û¢åÊ\", \"\", tweet)\n",
        "    tweet = re.sub(r\"fromåÊwounds\", \"from wounds\", tweet)\n",
        "    tweet = re.sub(r\"åÊ\", \"\", tweet)\n",
        "    tweet = re.sub(r\"åÈ\", \"\", tweet)\n",
        "    tweet = re.sub(r\"JapÌ_n\", \"Japan\", tweet)    \n",
        "    tweet = re.sub(r\"Ì©\", \"e\", tweet)\n",
        "    tweet = re.sub(r\"å¨\", \"\", tweet)\n",
        "    tweet = re.sub(r\"SuruÌ¤\", \"Suruc\", tweet)\n",
        "    tweet = re.sub(r\"åÇ\", \"\", tweet)\n",
        "    tweet = re.sub(r\"å£3million\", \"3 million\", tweet)\n",
        "    tweet = re.sub(r\"åÀ\", \"\", tweet)\n",
        "    \n",
        "    # Contractions\n",
        "    tweet = re.sub(r\"he's\", \"he is\", tweet)\n",
        "    tweet = re.sub(r\"there's\", \"there is\", tweet)\n",
        "    tweet = re.sub(r\"We're\", \"We are\", tweet)\n",
        "    tweet = re.sub(r\"That's\", \"That is\", tweet)\n",
        "    tweet = re.sub(r\"won't\", \"will not\", tweet)\n",
        "    tweet = re.sub(r\"they're\", \"they are\", tweet)\n",
        "    tweet = re.sub(r\"Can't\", \"Cannot\", tweet)\n",
        "    tweet = re.sub(r\"wasn't\", \"was not\", tweet)\n",
        "    tweet = re.sub(r\"don\\x89Ûªt\", \"do not\", tweet)\n",
        "    tweet = re.sub(r\"aren't\", \"are not\", tweet)\n",
        "    tweet = re.sub(r\"isn't\", \"is not\", tweet)\n",
        "    tweet = re.sub(r\"What's\", \"What is\", tweet)\n",
        "    tweet = re.sub(r\"haven't\", \"have not\", tweet)\n",
        "    tweet = re.sub(r\"hasn't\", \"has not\", tweet)\n",
        "    tweet = re.sub(r\"There's\", \"There is\", tweet)\n",
        "    tweet = re.sub(r\"He's\", \"He is\", tweet)\n",
        "    tweet = re.sub(r\"It's\", \"It is\", tweet)\n",
        "    tweet = re.sub(r\"You're\", \"You are\", tweet)\n",
        "    tweet = re.sub(r\"I'M\", \"I am\", tweet)\n",
        "    tweet = re.sub(r\"shouldn't\", \"should not\", tweet)\n",
        "    tweet = re.sub(r\"wouldn't\", \"would not\", tweet)\n",
        "    tweet = re.sub(r\"i'm\", \"I am\", tweet)\n",
        "    tweet = re.sub(r\"I\\x89Ûªm\", \"I am\", tweet)\n",
        "    tweet = re.sub(r\"I'm\", \"I am\", tweet)\n",
        "    tweet = re.sub(r\"Isn't\", \"is not\", tweet)\n",
        "    tweet = re.sub(r\"Here's\", \"Here is\", tweet)\n",
        "    tweet = re.sub(r\"you've\", \"you have\", tweet)\n",
        "    tweet = re.sub(r\"you\\x89Ûªve\", \"you have\", tweet)\n",
        "    tweet = re.sub(r\"we're\", \"we are\", tweet)\n",
        "    tweet = re.sub(r\"what's\", \"what is\", tweet)\n",
        "    tweet = re.sub(r\"couldn't\", \"could not\", tweet)\n",
        "    tweet = re.sub(r\"we've\", \"we have\", tweet)\n",
        "    tweet = re.sub(r\"it\\x89Ûªs\", \"it is\", tweet)\n",
        "    tweet = re.sub(r\"doesn\\x89Ûªt\", \"does not\", tweet)\n",
        "    tweet = re.sub(r\"It\\x89Ûªs\", \"It is\", tweet)\n",
        "    tweet = re.sub(r\"Here\\x89Ûªs\", \"Here is\", tweet)\n",
        "    tweet = re.sub(r\"who's\", \"who is\", tweet)\n",
        "    tweet = re.sub(r\"I\\x89Ûªve\", \"I have\", tweet)\n",
        "    tweet = re.sub(r\"y'all\", \"you all\", tweet)\n",
        "    tweet = re.sub(r\"can\\x89Ûªt\", \"cannot\", tweet)\n",
        "    tweet = re.sub(r\"would've\", \"would have\", tweet)\n",
        "    tweet = re.sub(r\"it'll\", \"it will\", tweet)\n",
        "    tweet = re.sub(r\"we'll\", \"we will\", tweet)\n",
        "    tweet = re.sub(r\"wouldn\\x89Ûªt\", \"would not\", tweet)\n",
        "    tweet = re.sub(r\"We've\", \"We have\", tweet)\n",
        "    tweet = re.sub(r\"he'll\", \"he will\", tweet)\n",
        "    tweet = re.sub(r\"Y'all\", \"You all\", tweet)\n",
        "    tweet = re.sub(r\"Weren't\", \"Were not\", tweet)\n",
        "    tweet = re.sub(r\"Didn't\", \"Did not\", tweet)\n",
        "    tweet = re.sub(r\"they'll\", \"they will\", tweet)\n",
        "    tweet = re.sub(r\"they'd\", \"they would\", tweet)\n",
        "    tweet = re.sub(r\"DON'T\", \"DO NOT\", tweet)\n",
        "    tweet = re.sub(r\"That\\x89Ûªs\", \"That is\", tweet)\n",
        "    tweet = re.sub(r\"they've\", \"they have\", tweet)\n",
        "    tweet = re.sub(r\"i'd\", \"I would\", tweet)\n",
        "    tweet = re.sub(r\"should've\", \"should have\", tweet)\n",
        "    tweet = re.sub(r\"You\\x89Ûªre\", \"You are\", tweet)\n",
        "    tweet = re.sub(r\"where's\", \"where is\", tweet)\n",
        "    tweet = re.sub(r\"Don\\x89Ûªt\", \"Do not\", tweet)\n",
        "    tweet = re.sub(r\"we'd\", \"we would\", tweet)\n",
        "    tweet = re.sub(r\"i'll\", \"I will\", tweet)\n",
        "    tweet = re.sub(r\"weren't\", \"were not\", tweet)\n",
        "    tweet = re.sub(r\"They're\", \"They are\", tweet)\n",
        "    tweet = re.sub(r\"Can\\x89Ûªt\", \"Cannot\", tweet)\n",
        "    tweet = re.sub(r\"you\\x89Ûªll\", \"you will\", tweet)\n",
        "    tweet = re.sub(r\"I\\x89Ûªd\", \"I would\", tweet)\n",
        "    tweet = re.sub(r\"let's\", \"let us\", tweet)\n",
        "    tweet = re.sub(r\"it's\", \"it is\", tweet)\n",
        "    tweet = re.sub(r\"can't\", \"cannot\", tweet)\n",
        "    tweet = re.sub(r\"don't\", \"do not\", tweet)\n",
        "    tweet = re.sub(r\"you're\", \"you are\", tweet)\n",
        "    tweet = re.sub(r\"i've\", \"I have\", tweet)\n",
        "    tweet = re.sub(r\"that's\", \"that is\", tweet)\n",
        "    tweet = re.sub(r\"i'll\", \"I will\", tweet)\n",
        "    tweet = re.sub(r\"doesn't\", \"does not\", tweet)\n",
        "    tweet = re.sub(r\"i'd\", \"I would\", tweet)\n",
        "    tweet = re.sub(r\"didn't\", \"did not\", tweet)\n",
        "    tweet = re.sub(r\"ain't\", \"am not\", tweet)\n",
        "    tweet = re.sub(r\"you'll\", \"you will\", tweet)\n",
        "    tweet = re.sub(r\"I've\", \"I have\", tweet)\n",
        "    tweet = re.sub(r\"Don't\", \"do not\", tweet)\n",
        "    tweet = re.sub(r\"I'll\", \"I will\", tweet)\n",
        "    tweet = re.sub(r\"I'd\", \"I would\", tweet)\n",
        "    tweet = re.sub(r\"Let's\", \"Let us\", tweet)\n",
        "    tweet = re.sub(r\"you'd\", \"You would\", tweet)\n",
        "    tweet = re.sub(r\"It's\", \"It is\", tweet)\n",
        "    tweet = re.sub(r\"Ain't\", \"am not\", tweet)\n",
        "    tweet = re.sub(r\"Haven't\", \"Have not\", tweet)\n",
        "    tweet = re.sub(r\"Could've\", \"Could have\", tweet)\n",
        "    tweet = re.sub(r\"youve\", \"you have\", tweet)  \n",
        "    tweet = re.sub(r\"donå«t\", \"do not\", tweet)   \n",
        "            \n",
        "    # Character entity references\n",
        "    tweet = re.sub(r\"&gt;\", \">\", tweet)\n",
        "    tweet = re.sub(r\"&lt;\", \"<\", tweet)\n",
        "    tweet = re.sub(r\"&amp;\", \"&\", tweet)\n",
        "    \n",
        "    return tweet\n",
        "\n",
        "\n",
        "def preprocess(text):\n",
        "    custom_replace = {'’': '\\'', '\\'t': ' not'}\n",
        "    emoji_pattern = re.compile(\"[\"\n",
        "                           u\"\\U0001F600-\\U0001F64F\"\n",
        "                           u\"\\U0001F300-\\U0001F5FF\"\n",
        "                           u\"\\U0001F680-\\U0001F6FF\"\n",
        "                           u\"\\U0001F1E0-\\U0001F1FF\"\n",
        "                           u\"\\U00002702-\\U000027B0\"\n",
        "                           u\"\\U000024C2-\\U0001F251\"\n",
        "                           \"]+\", flags=re.UNICODE)\n",
        "    text = emoji_pattern.sub(r'', text)\n",
        "\n",
        "    for hidden, replacement in custom_replace.items():\n",
        "      text = text.replace(hidden, replacement)\n",
        "\n",
        "    text = re.sub('[^a-zA-Z0-9]', ' ', text)\n",
        "    return ' '.join(text.split())\n",
        "\n",
        "\n",
        "\n",
        "\n",
        "train_df['tweet'] = train_df['tweet'].apply(replace_hidden)\n",
        "train_df['tweet'] = train_df['tweet'].apply(preprocess)\n",
        "\n",
        "test_df['tweet'] = test_df['tweet'].apply(replace_hidden)\n",
        "test_df['tweet'] = test_df['tweet'].apply(preprocess)\n",
        "\n",
        "train_df.head()"
      ],
      "execution_count": null,
      "outputs": [
        {
          "output_type": "execute_result",
          "data": {
            "text/html": [
              "<div>\n",
              "<style scoped>\n",
              "    .dataframe tbody tr th:only-of-type {\n",
              "        vertical-align: middle;\n",
              "    }\n",
              "\n",
              "    .dataframe tbody tr th {\n",
              "        vertical-align: top;\n",
              "    }\n",
              "\n",
              "    .dataframe thead th {\n",
              "        text-align: right;\n",
              "    }\n",
              "</style>\n",
              "<table border=\"1\" class=\"dataframe\">\n",
              "  <thead>\n",
              "    <tr style=\"text-align: right;\">\n",
              "      <th></th>\n",
              "      <th>Tweet_ID</th>\n",
              "      <th>tweet</th>\n",
              "      <th>type</th>\n",
              "    </tr>\n",
              "  </thead>\n",
              "  <tbody>\n",
              "    <tr>\n",
              "      <th>23638</th>\n",
              "      <td>ID_LK3FHU9H</td>\n",
              "      <td>they said something along the lines of this i know him he wouldn not do something like that as well as telling one of my bestfriends that they didn not believe me because i just wanted dick and i wouldn not want it if i was raped men suck</td>\n",
              "      <td>sexual_violence</td>\n",
              "    </tr>\n",
              "    <tr>\n",
              "      <th>18880</th>\n",
              "      <td>ID_H6OK5R5D</td>\n",
              "      <td>god did fuck all to do with children starving and people getting raped and murdered for thousands of years and you say he created me how about he creates a happy planet with good people fuck your god he can eat shit</td>\n",
              "      <td>sexual_violence</td>\n",
              "    </tr>\n",
              "    <tr>\n",
              "      <th>34891</th>\n",
              "      <td>ID_VRRYJ4Z3</td>\n",
              "      <td>oh let us count the questions that donnie trump must answer 1 how does he get by paying 0 to 750 in income taxes when most average americans pay about 10 times that in any given year 2 how many women has donnie raped</td>\n",
              "      <td>sexual_violence</td>\n",
              "    </tr>\n",
              "    <tr>\n",
              "      <th>1015</th>\n",
              "      <td>ID_0VJU7B2W</td>\n",
              "      <td>fgm female genital mutilation includes the partial total removal of the female external genitalia causing other injuries to the female genital organs for non medical reasons why i broke the law to undergo fgm aged 26</td>\n",
              "      <td>Harmful_Traditional_practice</td>\n",
              "    </tr>\n",
              "    <tr>\n",
              "      <th>28350</th>\n",
              "      <td>ID_PUR1YBUB</td>\n",
              "      <td>my husband always beats me at scrabble</td>\n",
              "      <td>Physical_violence</td>\n",
              "    </tr>\n",
              "  </tbody>\n",
              "</table>\n",
              "</div>"
            ],
            "text/plain": [
              "          Tweet_ID  ...                          type\n",
              "23638  ID_LK3FHU9H  ...               sexual_violence\n",
              "18880  ID_H6OK5R5D  ...               sexual_violence\n",
              "34891  ID_VRRYJ4Z3  ...               sexual_violence\n",
              "1015   ID_0VJU7B2W  ...  Harmful_Traditional_practice\n",
              "28350  ID_PUR1YBUB  ...             Physical_violence\n",
              "\n",
              "[5 rows x 3 columns]"
            ]
          },
          "metadata": {
            "tags": []
          },
          "execution_count": 40
        }
      ]
    },
    {
      "cell_type": "code",
      "metadata": {
        "id": "9_zqCCpxrVxI"
      },
      "source": [
        "type_to_id = {'sexual_violence': 0,\n",
        "              'Physical_violence': 1,\n",
        "              'emotional_violence': 2,\n",
        "              'Harmful_Traditional_practice': 3,\n",
        "              'economic_violence': 4,\n",
        "              }\n",
        "\n",
        "types = ['sexual_violence', 'Physical_violence', 'emotional_violence', 'Harmful_Traditional_practice', 'economic_violence']\n",
        "\n",
        "def encode_label(text):\n",
        "    return type_to_id[text]\n",
        "\n",
        "train_df['type'] = train_df['type'].apply(encode_label)"
      ],
      "execution_count": null,
      "outputs": []
    },
    {
      "cell_type": "code",
      "metadata": {
        "colab": {
          "base_uri": "https://localhost:8080/"
        },
        "id": "1KjG1EqsR1os",
        "outputId": "26d5c2a9-1f8e-41b1-a215-1f3719bc5046"
      },
      "source": [
        "tasks = [\n",
        "         'hate',\n",
        "         'offensive',\n",
        "         'emotion',\n",
        "        #  'irony',\n",
        "        #  'sentiment'\n",
        "         ]\n",
        "bert_paths = []\n",
        "\n",
        "for task in tasks:\n",
        "  path = f\"cardiffnlp/twitter-roberta-base-{task}\"\n",
        "  bert_paths.append(path)\n",
        "\n",
        "bert_paths"
      ],
      "execution_count": null,
      "outputs": [
        {
          "output_type": "execute_result",
          "data": {
            "text/plain": [
              "['cardiffnlp/twitter-roberta-base-hate',\n",
              " 'cardiffnlp/twitter-roberta-base-offensive',\n",
              " 'cardiffnlp/twitter-roberta-base-emotion']"
            ]
          },
          "metadata": {
            "tags": []
          },
          "execution_count": 43
        }
      ]
    },
    {
      "cell_type": "code",
      "metadata": {
        "colab": {
          "base_uri": "https://localhost:8080/",
          "height": 533,
          "referenced_widgets": [
            "4377877b9b4448788b33b93a06cf387e",
            "78c5f6779d30421ebaa73d1a42bef4cd",
            "e1b86943215d4af5a30a8d8d9e55b683",
            "5aa6b981e9ca4f4bb411f8ebe785da9f",
            "4bb6b15b6b3a437e800fdc069df21576",
            "55d2cdee57b844a1a06e0e2f17b1cb1c",
            "88b08e8e3e784ca28e3c287be3748f7d",
            "0e30ef3f77a94655baf1ced86a52b668",
            "00900857bb5447109ce3cc136cd65c53",
            "fcca322686854c3e8b5b7a47c2214ffc",
            "372ecb50be254070ba1f2b5b944e6f03",
            "c2f11ddc1c0548298cf1b63ed1ba854f",
            "114f9c6341594cfe81578446501d1b87",
            "7347552c251346d0b09809bdb07a499e",
            "3156fb8ff7d146a79e367280b33fda8f",
            "3209a285a6e04011a563a73f4cc8bee7",
            "5fc58844c5e5409b8d46d56473b869cc",
            "afb9e69738b8401baf35b9dbed2fbf7e",
            "086c3fbbb976415983793862a8b1add5",
            "f3c13ab390314e039859760181d44b95",
            "5056241557a9494da963c85903d67332",
            "9df1610882214819b3bcbb4befe01d2b",
            "42a1a342885047c0b10896b34df25ce9",
            "f3de9f448fce4b49b5a4a65092dce188",
            "4866eec778fb4c69a7c61c00e49ad1fb",
            "1282283819b14d43a0f97b4d1876e424",
            "1f453eda225f4c38810e9846ba47f0bd",
            "f1f33e126d774f74b6cba2b4a0f56601",
            "f75473a66bb948eba8a205ff37d27a55",
            "b53fd256a99c43efa8150e252c2602ee",
            "4271b1484f964d12af4ec30b8a6087b5",
            "1b2007461fe14225b751a51b67b75655",
            "f2b16ddea8f540e2b36ab599ed75fa39",
            "3c37b990dcfc440698acbc4c7de0dc8c",
            "579bcd20cfc04c94a16bf3d9b08db778",
            "ed726e17368d4427819b02d6650bd8c1",
            "d8ed86f54b504cdeb41132d08c2f2ad8",
            "a79ef168ae7a478e9888679e38bc06c9",
            "2f1d6f96daa74a09a29f44b9154720cb",
            "f0b1deecec404df6809bfa376f1b96f4"
          ]
        },
        "id": "bLdaNxKEUsPy",
        "outputId": "2f5f1d19-1aa7-4468-8ba0-731b19e84a69"
      },
      "source": [
        "seq_len = 120\n",
        "\n",
        "berts = []\n",
        "tokenizers = []\n",
        "\n",
        "for path in bert_paths:\n",
        "    tokenizer = AutoTokenizer.from_pretrained(path)\n",
        "    bert = TFAutoModel.from_pretrained(path)\n",
        "    tokenizers.append(tokenizer)\n",
        "    berts.append(bert)\n",
        "\n"
      ],
      "execution_count": null,
      "outputs": [
        {
          "output_type": "stream",
          "text": [
            "Some layers from the model checkpoint at cardiffnlp/twitter-roberta-base-hate were not used when initializing TFRobertaModel: ['classifier']\n",
            "- This IS expected if you are initializing TFRobertaModel from the checkpoint of a model trained on another task or with another architecture (e.g. initializing a BertForSequenceClassification model from a BertForPreTraining model).\n",
            "- This IS NOT expected if you are initializing TFRobertaModel from the checkpoint of a model that you expect to be exactly identical (initializing a BertForSequenceClassification model from a BertForSequenceClassification model).\n",
            "All the layers of TFRobertaModel were initialized from the model checkpoint at cardiffnlp/twitter-roberta-base-hate.\n",
            "If your task is similar to the task the model of the checkpoint was trained on, you can already use TFRobertaModel for predictions without further training.\n",
            "Some layers from the model checkpoint at cardiffnlp/twitter-roberta-base-offensive were not used when initializing TFRobertaModel: ['classifier']\n",
            "- This IS expected if you are initializing TFRobertaModel from the checkpoint of a model trained on another task or with another architecture (e.g. initializing a BertForSequenceClassification model from a BertForPreTraining model).\n",
            "- This IS NOT expected if you are initializing TFRobertaModel from the checkpoint of a model that you expect to be exactly identical (initializing a BertForSequenceClassification model from a BertForSequenceClassification model).\n",
            "All the layers of TFRobertaModel were initialized from the model checkpoint at cardiffnlp/twitter-roberta-base-offensive.\n",
            "If your task is similar to the task the model of the checkpoint was trained on, you can already use TFRobertaModel for predictions without further training.\n"
          ],
          "name": "stderr"
        },
        {
          "output_type": "display_data",
          "data": {
            "application/vnd.jupyter.widget-view+json": {
              "model_id": "4377877b9b4448788b33b93a06cf387e",
              "version_minor": 0,
              "version_major": 2
            },
            "text/plain": [
              "HBox(children=(FloatProgress(value=0.0, description='Downloading', max=779.0, style=ProgressStyle(description_…"
            ]
          },
          "metadata": {
            "tags": []
          }
        },
        {
          "output_type": "stream",
          "text": [
            "\n"
          ],
          "name": "stdout"
        },
        {
          "output_type": "display_data",
          "data": {
            "application/vnd.jupyter.widget-view+json": {
              "model_id": "00900857bb5447109ce3cc136cd65c53",
              "version_minor": 0,
              "version_major": 2
            },
            "text/plain": [
              "HBox(children=(FloatProgress(value=0.0, description='Downloading', max=898822.0, style=ProgressStyle(descripti…"
            ]
          },
          "metadata": {
            "tags": []
          }
        },
        {
          "output_type": "stream",
          "text": [
            "\n"
          ],
          "name": "stdout"
        },
        {
          "output_type": "display_data",
          "data": {
            "application/vnd.jupyter.widget-view+json": {
              "model_id": "5fc58844c5e5409b8d46d56473b869cc",
              "version_minor": 0,
              "version_major": 2
            },
            "text/plain": [
              "HBox(children=(FloatProgress(value=0.0, description='Downloading', max=456318.0, style=ProgressStyle(descripti…"
            ]
          },
          "metadata": {
            "tags": []
          }
        },
        {
          "output_type": "stream",
          "text": [
            "\n"
          ],
          "name": "stdout"
        },
        {
          "output_type": "display_data",
          "data": {
            "application/vnd.jupyter.widget-view+json": {
              "model_id": "4866eec778fb4c69a7c61c00e49ad1fb",
              "version_minor": 0,
              "version_major": 2
            },
            "text/plain": [
              "HBox(children=(FloatProgress(value=0.0, description='Downloading', max=150.0, style=ProgressStyle(description_…"
            ]
          },
          "metadata": {
            "tags": []
          }
        },
        {
          "output_type": "stream",
          "text": [
            "\n"
          ],
          "name": "stdout"
        },
        {
          "output_type": "display_data",
          "data": {
            "application/vnd.jupyter.widget-view+json": {
              "model_id": "f2b16ddea8f540e2b36ab599ed75fa39",
              "version_minor": 0,
              "version_major": 2
            },
            "text/plain": [
              "HBox(children=(FloatProgress(value=0.0, description='Downloading', max=501233376.0, style=ProgressStyle(descri…"
            ]
          },
          "metadata": {
            "tags": []
          }
        },
        {
          "output_type": "stream",
          "text": [
            "\n"
          ],
          "name": "stdout"
        },
        {
          "output_type": "stream",
          "text": [
            "Some layers from the model checkpoint at cardiffnlp/twitter-roberta-base-emotion were not used when initializing TFRobertaModel: ['classifier']\n",
            "- This IS expected if you are initializing TFRobertaModel from the checkpoint of a model trained on another task or with another architecture (e.g. initializing a BertForSequenceClassification model from a BertForPreTraining model).\n",
            "- This IS NOT expected if you are initializing TFRobertaModel from the checkpoint of a model that you expect to be exactly identical (initializing a BertForSequenceClassification model from a BertForSequenceClassification model).\n",
            "All the layers of TFRobertaModel were initialized from the model checkpoint at cardiffnlp/twitter-roberta-base-emotion.\n",
            "If your task is similar to the task the model of the checkpoint was trained on, you can already use TFRobertaModel for predictions without further training.\n"
          ],
          "name": "stderr"
        }
      ]
    },
    {
      "cell_type": "code",
      "metadata": {
        "id": "wOaqGxxLUFa3"
      },
      "source": [
        "token_data = []\n",
        "\n",
        "for tokenizer in tokenizers:\n",
        "    tokens = tokenizer(train_df['tweet'].tolist(), max_length=seq_len, \n",
        "                      truncation=True, padding='max_length', \n",
        "                      add_special_tokens=True, return_tensors='np')\n",
        "    token_data.append(tokens)\n"
      ],
      "execution_count": null,
      "outputs": []
    },
    {
      "cell_type": "code",
      "metadata": {
        "id": "W_XFRpYlVXEB"
      },
      "source": [
        "token_ids_data = []\n",
        "token_mask_data = []\n",
        "\n",
        "\n",
        "for tok in token_data:\n",
        "  tokens_id = tok['input_ids']\n",
        "  tokens_mask = tok['attention_mask']\n",
        "  token_ids_data.append(tokens_id)\n",
        "  token_mask_data.append(tokens_mask)\n",
        "\n",
        "\n",
        "y_values = train_df['type'].to_numpy()\n"
      ],
      "execution_count": null,
      "outputs": []
    },
    {
      "cell_type": "code",
      "metadata": {
        "colab": {
          "base_uri": "https://localhost:8080/"
        },
        "id": "qF5ggTp-Su-z",
        "outputId": "b7ee90a6-e973-49d1-ce26-f04672f95603"
      },
      "source": [
        "y_train = y_values\n",
        "train_data = {}\n",
        "for i, task in enumerate(tasks):\n",
        "    train_data[task+'_input_ids'] = token_ids_data[i]\n",
        "    train_data[task+'_attention_mask'] = token_mask_data[i]\n",
        "  \n",
        "train_data.keys()"
      ],
      "execution_count": null,
      "outputs": [
        {
          "output_type": "execute_result",
          "data": {
            "text/plain": [
              "dict_keys(['hate_input_ids', 'hate_attention_mask', 'offensive_input_ids', 'offensive_attention_mask', 'emotion_input_ids', 'emotion_attention_mask'])"
            ]
          },
          "metadata": {
            "tags": []
          },
          "execution_count": 47
        }
      ]
    },
    {
      "cell_type": "code",
      "metadata": {
        "id": "zxMmvPe-mY33"
      },
      "source": [
        "BATCH_SIZE = 64\n",
        "AUTOTUNE = tf.data.AUTOTUNE\n",
        "BUFFER_SIZE = 50000\n",
        "\n",
        "\n",
        "train_ds = Dataset.from_tensor_slices((train_data, y_train)).shuffle(buffer_size=BUFFER_SIZE).batch(BATCH_SIZE, drop_remainder=True).prefetch(AUTOTUNE)\n"
      ],
      "execution_count": null,
      "outputs": []
    },
    {
      "cell_type": "code",
      "metadata": {
        "colab": {
          "base_uri": "https://localhost:8080/"
        },
        "id": "L_YV-JG_suLE",
        "outputId": "fafb4d1f-8c23-4190-ab76-10cd9e42499b"
      },
      "source": [
        "def create_model():\n",
        "    input_ids = [Input(shape=(seq_len,), name=task+'_input_ids', dtype='int32') for task in tasks]\n",
        "    masks = [Input(shape=(seq_len,), name=task+'_attention_mask', dtype='int32') for task in tasks]\n",
        "\n",
        "    encoded = [bert(trf_input_ids, attention_mask=trf_mask)[0] for trf_input_ids, trf_mask in zip(input_ids, masks)]\n",
        "    encoded = [encd[:, 0, :] for encd in encoded]\n",
        "    output = [Dense(512, activation='relu')(encd) for encd in encoded]\n",
        "    output = concatenate(output)\n",
        "    output = Dense(5, activation='softmax')(output)\n",
        "\n",
        "    inputs = [ids for ids in input_ids] + [mask for mask in masks]\n",
        "    return Model(inputs=inputs, outputs=[output])\n",
        "\n",
        "model = create_model()"
      ],
      "execution_count": null,
      "outputs": [
        {
          "output_type": "stream",
          "text": [
            "WARNING:tensorflow:The parameters `output_attentions`, `output_hidden_states` and `use_cache` cannot be updated when calling a model.They have to be set to True/False in the config object (i.e.: `config=XConfig.from_pretrained('name', output_attentions=True)`).\n",
            "WARNING:tensorflow:The parameter `return_dict` cannot be set in graph mode and will always be set to `True`.\n",
            "WARNING:tensorflow:The parameters `output_attentions`, `output_hidden_states` and `use_cache` cannot be updated when calling a model.They have to be set to True/False in the config object (i.e.: `config=XConfig.from_pretrained('name', output_attentions=True)`).\n",
            "WARNING:tensorflow:The parameter `return_dict` cannot be set in graph mode and will always be set to `True`.\n",
            "WARNING:tensorflow:The parameters `output_attentions`, `output_hidden_states` and `use_cache` cannot be updated when calling a model.They have to be set to True/False in the config object (i.e.: `config=XConfig.from_pretrained('name', output_attentions=True)`).\n",
            "WARNING:tensorflow:The parameter `return_dict` cannot be set in graph mode and will always be set to `True`.\n"
          ],
          "name": "stdout"
        }
      ]
    },
    {
      "cell_type": "code",
      "metadata": {
        "id": "VErqSk_UVPGt"
      },
      "source": [
        "INDEX = len(tasks)*2\n",
        "model.layers[INDEX].trainable = False"
      ],
      "execution_count": null,
      "outputs": []
    },
    {
      "cell_type": "code",
      "metadata": {
        "id": "7o7GYyoOt9HE",
        "colab": {
          "base_uri": "https://localhost:8080/"
        },
        "outputId": "317c97cc-8dc0-44ac-8363-10b790fa0d41"
      },
      "source": [
        "model.summary()"
      ],
      "execution_count": null,
      "outputs": [
        {
          "output_type": "stream",
          "text": [
            "Model: \"model_1\"\n",
            "__________________________________________________________________________________________________\n",
            "Layer (type)                    Output Shape         Param #     Connected to                     \n",
            "==================================================================================================\n",
            "hate_input_ids (InputLayer)     [(None, 120)]        0                                            \n",
            "__________________________________________________________________________________________________\n",
            "hate_attention_mask (InputLayer [(None, 120)]        0                                            \n",
            "__________________________________________________________________________________________________\n",
            "offensive_input_ids (InputLayer [(None, 120)]        0                                            \n",
            "__________________________________________________________________________________________________\n",
            "offensive_attention_mask (Input [(None, 120)]        0                                            \n",
            "__________________________________________________________________________________________________\n",
            "emotion_input_ids (InputLayer)  [(None, 120)]        0                                            \n",
            "__________________________________________________________________________________________________\n",
            "emotion_attention_mask (InputLa [(None, 120)]        0                                            \n",
            "__________________________________________________________________________________________________\n",
            "tf_roberta_model_4 (TFRobertaMo TFBaseModelOutputWit 124645632   hate_input_ids[0][0]             \n",
            "                                                                 hate_attention_mask[0][0]        \n",
            "                                                                 offensive_input_ids[0][0]        \n",
            "                                                                 offensive_attention_mask[0][0]   \n",
            "                                                                 emotion_input_ids[0][0]          \n",
            "                                                                 emotion_attention_mask[0][0]     \n",
            "__________________________________________________________________________________________________\n",
            "tf.__operators__.getitem_2 (Sli (None, 768)          0           tf_roberta_model_4[0][0]         \n",
            "__________________________________________________________________________________________________\n",
            "tf.__operators__.getitem_3 (Sli (None, 768)          0           tf_roberta_model_4[1][0]         \n",
            "__________________________________________________________________________________________________\n",
            "tf.__operators__.getitem_4 (Sli (None, 768)          0           tf_roberta_model_4[2][0]         \n",
            "__________________________________________________________________________________________________\n",
            "dense_3 (Dense)                 (None, 512)          393728      tf.__operators__.getitem_2[0][0] \n",
            "__________________________________________________________________________________________________\n",
            "dense_4 (Dense)                 (None, 512)          393728      tf.__operators__.getitem_3[0][0] \n",
            "__________________________________________________________________________________________________\n",
            "dense_5 (Dense)                 (None, 512)          393728      tf.__operators__.getitem_4[0][0] \n",
            "__________________________________________________________________________________________________\n",
            "concatenate_1 (Concatenate)     (None, 1536)         0           dense_3[0][0]                    \n",
            "                                                                 dense_4[0][0]                    \n",
            "                                                                 dense_5[0][0]                    \n",
            "__________________________________________________________________________________________________\n",
            "dense_6 (Dense)                 (None, 5)            7685        concatenate_1[0][0]              \n",
            "==================================================================================================\n",
            "Total params: 125,834,501\n",
            "Trainable params: 1,188,869\n",
            "Non-trainable params: 124,645,632\n",
            "__________________________________________________________________________________________________\n"
          ],
          "name": "stdout"
        }
      ]
    },
    {
      "cell_type": "code",
      "metadata": {
        "id": "KLsJpejoc-pC"
      },
      "source": [
        "weights = compute_class_weight(class_weight='balanced', classes=[0, 1, 2, 3, 4], y=train_df['type'])\n",
        "class_weight ={}\n",
        "\n",
        "for i in range(len(weights)):\n",
        "    class_weight[i] = weights[i]"
      ],
      "execution_count": null,
      "outputs": []
    },
    {
      "cell_type": "code",
      "metadata": {
        "id": "GnmkZjE8-qPS"
      },
      "source": [
        "import math\n",
        "\n",
        "def step_decay(epoch):\n",
        "\tinitial_lrate = 0.00125\n",
        "\tdrop = 0.5\n",
        "\tepochs_drop = 2.0\n",
        "\tlrate = initial_lrate * math.pow(drop, math.floor((1+epoch)/epochs_drop))\n",
        "\treturn lrate\n",
        "\n",
        "lr = tf.keras.callbacks.LearningRateScheduler(step_decay)"
      ],
      "execution_count": null,
      "outputs": []
    },
    {
      "cell_type": "code",
      "metadata": {
        "colab": {
          "base_uri": "https://localhost:8080/"
        },
        "id": "9nlrGiTduCQs",
        "outputId": "d3b9d020-4fd0-4d60-aedb-8d40515d8819"
      },
      "source": [
        "model.compile(optimizer='adam', loss=tf.keras.losses.SparseCategoricalCrossentropy(), metrics=['accuracy'])\n",
        "model.fit(train_ds, epochs=3, class_weight=class_weight)\n"
      ],
      "execution_count": null,
      "outputs": [
        {
          "output_type": "stream",
          "text": [
            "Epoch 1/3\n",
            "WARNING:tensorflow:The parameters `output_attentions`, `output_hidden_states` and `use_cache` cannot be updated when calling a model.They have to be set to True/False in the config object (i.e.: `config=XConfig.from_pretrained('name', output_attentions=True)`).\n",
            "WARNING:tensorflow:The parameter `return_dict` cannot be set in graph mode and will always be set to `True`.\n",
            "WARNING:tensorflow:The parameters `output_attentions`, `output_hidden_states` and `use_cache` cannot be updated when calling a model.They have to be set to True/False in the config object (i.e.: `config=XConfig.from_pretrained('name', output_attentions=True)`).\n",
            "WARNING:tensorflow:The parameter `return_dict` cannot be set in graph mode and will always be set to `True`.\n",
            "WARNING:tensorflow:The parameters `output_attentions`, `output_hidden_states` and `use_cache` cannot be updated when calling a model.They have to be set to True/False in the config object (i.e.: `config=XConfig.from_pretrained('name', output_attentions=True)`).\n",
            "WARNING:tensorflow:The parameter `return_dict` cannot be set in graph mode and will always be set to `True`.\n",
            "WARNING:tensorflow:The parameters `output_attentions`, `output_hidden_states` and `use_cache` cannot be updated when calling a model.They have to be set to True/False in the config object (i.e.: `config=XConfig.from_pretrained('name', output_attentions=True)`).\n",
            "WARNING:tensorflow:The parameter `return_dict` cannot be set in graph mode and will always be set to `True`.\n",
            "WARNING:tensorflow:The parameters `output_attentions`, `output_hidden_states` and `use_cache` cannot be updated when calling a model.They have to be set to True/False in the config object (i.e.: `config=XConfig.from_pretrained('name', output_attentions=True)`).\n",
            "WARNING:tensorflow:The parameter `return_dict` cannot be set in graph mode and will always be set to `True`.\n",
            "WARNING:tensorflow:The parameters `output_attentions`, `output_hidden_states` and `use_cache` cannot be updated when calling a model.They have to be set to True/False in the config object (i.e.: `config=XConfig.from_pretrained('name', output_attentions=True)`).\n",
            "WARNING:tensorflow:The parameter `return_dict` cannot be set in graph mode and will always be set to `True`.\n",
            "619/619 [==============================] - 316s 475ms/step - loss: 0.1830 - accuracy: 0.9345\n",
            "Epoch 2/3\n",
            "619/619 [==============================] - 294s 475ms/step - loss: 0.1585 - accuracy: 0.9311\n",
            "Epoch 3/3\n",
            "619/619 [==============================] - 295s 476ms/step - loss: 0.2025 - accuracy: 0.9311\n"
          ],
          "name": "stdout"
        },
        {
          "output_type": "execute_result",
          "data": {
            "text/plain": [
              "<tensorflow.python.keras.callbacks.History at 0x7f4736365dd0>"
            ]
          },
          "metadata": {
            "tags": []
          },
          "execution_count": 70
        }
      ]
    },
    {
      "cell_type": "code",
      "metadata": {
        "id": "pZaW8W_aLqQV"
      },
      "source": [
        "import json\n",
        "\n",
        "weights = {}\n",
        "weights['layer14'] = model.layers[-1].get_weights()[0].tolist()\n",
        "weights['layer10'] = model.layers[10].get_weights()[0].tolist()\n",
        "weights['layer11'] = model.layers[11].get_weights()[0].tolist()\n",
        "weights['layer12'] = model.layers[12].get_weights()[0].tolist()\n",
        "weights['layer14_b'] = model.layers[-1].get_weights()[1].tolist()\n",
        "weights['layer10_b'] = model.layers[10].get_weights()[1].tolist()\n",
        "weights['layer11_b'] = model.layers[11].get_weights()[1].tolist()\n",
        "weights['layer12_b'] = model.layers[12].get_weights()[1].tolist()\n",
        "\n",
        "with open('/content/drive/MyDrive/chekcpoint.json', 'w') as f:\n",
        "    json.dump(weights, f)\n",
        "f.close()"
      ],
      "execution_count": null,
      "outputs": []
    },
    {
      "cell_type": "code",
      "metadata": {
        "colab": {
          "base_uri": "https://localhost:8080/"
        },
        "id": "nFNFZibwg_Ku",
        "outputId": "e9964431-cf6c-40b9-e525-5473557f2198"
      },
      "source": [
        "test_token_data = []\n",
        "test_data = {}\n",
        "test_token_ids_data = []\n",
        "test_token_mask_data = []\n",
        "\n",
        "\n",
        "for tokenizer in tokenizers:\n",
        "    tokens = tokenizer(test_df['tweet'].tolist(), max_length=seq_len, \n",
        "                      truncation=True, padding='max_length', \n",
        "                      add_special_tokens=True, return_tensors='np')\n",
        "    test_token_data.append(tokens)\n",
        "\n",
        "\n",
        "for tok in test_token_data:\n",
        "    test_tokens_id = tok['input_ids']\n",
        "    test_tokens_mask = tok['attention_mask']\n",
        "    test_token_ids_data.append(test_tokens_id)\n",
        "    test_token_mask_data.append(test_tokens_mask)\n",
        "\n",
        "\n",
        "for i, task in enumerate(tasks):\n",
        "    test_data[task+'_input_ids'] = test_token_ids_data[i]\n",
        "    test_data[task+'_attention_mask'] = test_token_mask_data[i]\n",
        "  \n",
        "test_data.keys()"
      ],
      "execution_count": null,
      "outputs": [
        {
          "output_type": "execute_result",
          "data": {
            "text/plain": [
              "dict_keys(['hate_input_ids', 'hate_attention_mask', 'offensive_input_ids', 'offensive_attention_mask', 'emotion_input_ids', 'emotion_attention_mask'])"
            ]
          },
          "metadata": {
            "tags": []
          },
          "execution_count": 71
        }
      ]
    },
    {
      "cell_type": "code",
      "metadata": {
        "id": "xFn1gBF372o-",
        "colab": {
          "base_uri": "https://localhost:8080/"
        },
        "outputId": "615159cc-29db-4209-a317-d943d5a75c5a"
      },
      "source": [
        "predicted = model.predict(test_data)"
      ],
      "execution_count": null,
      "outputs": [
        {
          "output_type": "stream",
          "text": [
            "WARNING:tensorflow:The parameters `output_attentions`, `output_hidden_states` and `use_cache` cannot be updated when calling a model.They have to be set to True/False in the config object (i.e.: `config=XConfig.from_pretrained('name', output_attentions=True)`).\n",
            "WARNING:tensorflow:The parameter `return_dict` cannot be set in graph mode and will always be set to `True`.\n",
            "WARNING:tensorflow:The parameters `output_attentions`, `output_hidden_states` and `use_cache` cannot be updated when calling a model.They have to be set to True/False in the config object (i.e.: `config=XConfig.from_pretrained('name', output_attentions=True)`).\n",
            "WARNING:tensorflow:The parameter `return_dict` cannot be set in graph mode and will always be set to `True`.\n",
            "WARNING:tensorflow:The parameters `output_attentions`, `output_hidden_states` and `use_cache` cannot be updated when calling a model.They have to be set to True/False in the config object (i.e.: `config=XConfig.from_pretrained('name', output_attentions=True)`).\n",
            "WARNING:tensorflow:The parameter `return_dict` cannot be set in graph mode and will always be set to `True`.\n"
          ],
          "name": "stdout"
        }
      ]
    },
    {
      "cell_type": "code",
      "metadata": {
        "id": "LMYtngz59v-P"
      },
      "source": [
        "predictions = []\n",
        "for p in predicted:\n",
        "    predictions.append(np.argmax(p))\n"
      ],
      "execution_count": null,
      "outputs": []
    },
    {
      "cell_type": "code",
      "metadata": {
        "colab": {
          "base_uri": "https://localhost:8080/",
          "height": 665
        },
        "id": "_T8q8NPJ78NX",
        "outputId": "efbdd6c0-a184-4aaf-b284-baa2f5f07aae"
      },
      "source": [
        "simple_submission = pd.DataFrame()\n",
        "simple_submission['Tweet_ID'] = test_df['Tweet_ID']\n",
        "simple_submission['type'] = predictions\n",
        "simple_submission['type'] = simple_submission['type'].apply(lambda x: types[x])\n",
        "simple_submission.head(20)"
      ],
      "execution_count": null,
      "outputs": [
        {
          "output_type": "execute_result",
          "data": {
            "text/html": [
              "<div>\n",
              "<style scoped>\n",
              "    .dataframe tbody tr th:only-of-type {\n",
              "        vertical-align: middle;\n",
              "    }\n",
              "\n",
              "    .dataframe tbody tr th {\n",
              "        vertical-align: top;\n",
              "    }\n",
              "\n",
              "    .dataframe thead th {\n",
              "        text-align: right;\n",
              "    }\n",
              "</style>\n",
              "<table border=\"1\" class=\"dataframe\">\n",
              "  <thead>\n",
              "    <tr style=\"text-align: right;\">\n",
              "      <th></th>\n",
              "      <th>Tweet_ID</th>\n",
              "      <th>type</th>\n",
              "    </tr>\n",
              "  </thead>\n",
              "  <tbody>\n",
              "    <tr>\n",
              "      <th>0</th>\n",
              "      <td>ID_0095QL4S</td>\n",
              "      <td>Physical_violence</td>\n",
              "    </tr>\n",
              "    <tr>\n",
              "      <th>1</th>\n",
              "      <td>ID_00DREW5O</td>\n",
              "      <td>Harmful_Traditional_practice</td>\n",
              "    </tr>\n",
              "    <tr>\n",
              "      <th>2</th>\n",
              "      <td>ID_00E9F5X9</td>\n",
              "      <td>Harmful_Traditional_practice</td>\n",
              "    </tr>\n",
              "    <tr>\n",
              "      <th>3</th>\n",
              "      <td>ID_00G9OSKZ</td>\n",
              "      <td>sexual_violence</td>\n",
              "    </tr>\n",
              "    <tr>\n",
              "      <th>4</th>\n",
              "      <td>ID_00HU96U6</td>\n",
              "      <td>sexual_violence</td>\n",
              "    </tr>\n",
              "    <tr>\n",
              "      <th>5</th>\n",
              "      <td>ID_00IJ4SAW</td>\n",
              "      <td>sexual_violence</td>\n",
              "    </tr>\n",
              "    <tr>\n",
              "      <th>6</th>\n",
              "      <td>ID_00J80GL8</td>\n",
              "      <td>Physical_violence</td>\n",
              "    </tr>\n",
              "    <tr>\n",
              "      <th>7</th>\n",
              "      <td>ID_00L0E289</td>\n",
              "      <td>emotional_violence</td>\n",
              "    </tr>\n",
              "    <tr>\n",
              "      <th>8</th>\n",
              "      <td>ID_00N24MZN</td>\n",
              "      <td>sexual_violence</td>\n",
              "    </tr>\n",
              "    <tr>\n",
              "      <th>9</th>\n",
              "      <td>ID_00V2TOUW</td>\n",
              "      <td>sexual_violence</td>\n",
              "    </tr>\n",
              "    <tr>\n",
              "      <th>10</th>\n",
              "      <td>ID_00Y0NK0R</td>\n",
              "      <td>sexual_violence</td>\n",
              "    </tr>\n",
              "    <tr>\n",
              "      <th>11</th>\n",
              "      <td>ID_010FD3LS</td>\n",
              "      <td>sexual_violence</td>\n",
              "    </tr>\n",
              "    <tr>\n",
              "      <th>12</th>\n",
              "      <td>ID_012I9IOH</td>\n",
              "      <td>sexual_violence</td>\n",
              "    </tr>\n",
              "    <tr>\n",
              "      <th>13</th>\n",
              "      <td>ID_012NI8CJ</td>\n",
              "      <td>Physical_violence</td>\n",
              "    </tr>\n",
              "    <tr>\n",
              "      <th>14</th>\n",
              "      <td>ID_0145AH32</td>\n",
              "      <td>sexual_violence</td>\n",
              "    </tr>\n",
              "    <tr>\n",
              "      <th>15</th>\n",
              "      <td>ID_019J4AHQ</td>\n",
              "      <td>Physical_violence</td>\n",
              "    </tr>\n",
              "    <tr>\n",
              "      <th>16</th>\n",
              "      <td>ID_01DHK1SM</td>\n",
              "      <td>sexual_violence</td>\n",
              "    </tr>\n",
              "    <tr>\n",
              "      <th>17</th>\n",
              "      <td>ID_01DS0G73</td>\n",
              "      <td>sexual_violence</td>\n",
              "    </tr>\n",
              "    <tr>\n",
              "      <th>18</th>\n",
              "      <td>ID_01J4XGCQ</td>\n",
              "      <td>emotional_violence</td>\n",
              "    </tr>\n",
              "    <tr>\n",
              "      <th>19</th>\n",
              "      <td>ID_01LD495W</td>\n",
              "      <td>sexual_violence</td>\n",
              "    </tr>\n",
              "  </tbody>\n",
              "</table>\n",
              "</div>"
            ],
            "text/plain": [
              "       Tweet_ID                          type\n",
              "0   ID_0095QL4S             Physical_violence\n",
              "1   ID_00DREW5O  Harmful_Traditional_practice\n",
              "2   ID_00E9F5X9  Harmful_Traditional_practice\n",
              "3   ID_00G9OSKZ               sexual_violence\n",
              "4   ID_00HU96U6               sexual_violence\n",
              "5   ID_00IJ4SAW               sexual_violence\n",
              "6   ID_00J80GL8             Physical_violence\n",
              "7   ID_00L0E289            emotional_violence\n",
              "8   ID_00N24MZN               sexual_violence\n",
              "9   ID_00V2TOUW               sexual_violence\n",
              "10  ID_00Y0NK0R               sexual_violence\n",
              "11  ID_010FD3LS               sexual_violence\n",
              "12  ID_012I9IOH               sexual_violence\n",
              "13  ID_012NI8CJ             Physical_violence\n",
              "14  ID_0145AH32               sexual_violence\n",
              "15  ID_019J4AHQ             Physical_violence\n",
              "16  ID_01DHK1SM               sexual_violence\n",
              "17  ID_01DS0G73               sexual_violence\n",
              "18  ID_01J4XGCQ            emotional_violence\n",
              "19  ID_01LD495W               sexual_violence"
            ]
          },
          "metadata": {
            "tags": []
          },
          "execution_count": 74
        }
      ]
    },
    {
      "cell_type": "code",
      "metadata": {
        "id": "kaVH0Kcz-dN1"
      },
      "source": [
        "simple_submission.to_csv('simple_submission.csv', index=False)"
      ],
      "execution_count": null,
      "outputs": []
    },
    {
      "cell_type": "code",
      "metadata": {
        "colab": {
          "base_uri": "https://localhost:8080/",
          "height": 17
        },
        "id": "OHNRhW8MQeO0",
        "outputId": "d8025d16-faee-49f2-e081-c4fd71ff5a91"
      },
      "source": [
        "from google.colab import files\n",
        "\n",
        "files.download('/content/simple_submission.csv')"
      ],
      "execution_count": null,
      "outputs": [
        {
          "output_type": "display_data",
          "data": {
            "application/javascript": [
              "\n",
              "    async function download(id, filename, size) {\n",
              "      if (!google.colab.kernel.accessAllowed) {\n",
              "        return;\n",
              "      }\n",
              "      const div = document.createElement('div');\n",
              "      const label = document.createElement('label');\n",
              "      label.textContent = `Downloading \"${filename}\": `;\n",
              "      div.appendChild(label);\n",
              "      const progress = document.createElement('progress');\n",
              "      progress.max = size;\n",
              "      div.appendChild(progress);\n",
              "      document.body.appendChild(div);\n",
              "\n",
              "      const buffers = [];\n",
              "      let downloaded = 0;\n",
              "\n",
              "      const channel = await google.colab.kernel.comms.open(id);\n",
              "      // Send a message to notify the kernel that we're ready.\n",
              "      channel.send({})\n",
              "\n",
              "      for await (const message of channel.messages) {\n",
              "        // Send a message to notify the kernel that we're ready.\n",
              "        channel.send({})\n",
              "        if (message.buffers) {\n",
              "          for (const buffer of message.buffers) {\n",
              "            buffers.push(buffer);\n",
              "            downloaded += buffer.byteLength;\n",
              "            progress.value = downloaded;\n",
              "          }\n",
              "        }\n",
              "      }\n",
              "      const blob = new Blob(buffers, {type: 'application/binary'});\n",
              "      const a = document.createElement('a');\n",
              "      a.href = window.URL.createObjectURL(blob);\n",
              "      a.download = filename;\n",
              "      div.appendChild(a);\n",
              "      a.click();\n",
              "      div.remove();\n",
              "    }\n",
              "  "
            ],
            "text/plain": [
              "<IPython.core.display.Javascript object>"
            ]
          },
          "metadata": {
            "tags": []
          }
        },
        {
          "output_type": "display_data",
          "data": {
            "application/javascript": [
              "download(\"download_75b5f77b-5aad-465a-b9e1-ad25d2543e79\", \"simple_submission.csv\", 495513)"
            ],
            "text/plain": [
              "<IPython.core.display.Javascript object>"
            ]
          },
          "metadata": {
            "tags": []
          }
        }
      ]
    }
  ]
}